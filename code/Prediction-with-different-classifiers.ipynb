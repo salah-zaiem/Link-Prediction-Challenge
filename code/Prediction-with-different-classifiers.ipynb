{
 "cells": [
  {
   "cell_type": "markdown",
   "metadata": {},
   "source": [
    "# Prediction with different classifiers"
   ]
  },
  {
   "cell_type": "markdown",
   "metadata": {},
   "source": [
    "**Plan :**\n",
    "\n",
    "[1. Loading the libraries and the data](#1)  \n",
    "[2. Predictions with different classifiers](#2)  \n",
    "> [A - SVM](#2a)  \n",
    "> [B - Random forest](#2b)  \n",
    "> [C - Random forest with AdaBoost](#2c)   \n",
    "> [D - Extra tree classifier](#2d)    \n",
    "> [E - Extra gradient boosting](#2e)    \n",
    "> [F - LightGBM classifier](#2f)    \n",
    "> [G - Neural network](#2g)  \n",
    "> [H - Convolutional neural network](#2h)  "
   ]
  },
  {
   "cell_type": "markdown",
   "metadata": {},
   "source": [
    "<a id=\"1\"></a>\n",
    "## 1. Loading the libraries and the data"
   ]
  },
  {
   "cell_type": "code",
   "execution_count": 1,
   "metadata": {
    "collapsed": true
   },
   "outputs": [],
   "source": [
    "import random\n",
    "import numpy as np\n",
    "import igraph\n",
    "from sklearn import svm\n",
    "from sklearn.feature_extraction.text import TfidfVectorizer\n",
    "from sklearn.metrics.pairwise import linear_kernel\n",
    "from sklearn import preprocessing\n",
    "import nltk\n",
    "import csv\n",
    "import pandas as pd\n",
    "import lightgbm as lgb\n",
    "import matplotlib.pyplot as plt\n",
    "from sklearn.metrics import accuracy_score"
   ]
  },
  {
   "cell_type": "code",
   "execution_count": 2,
   "metadata": {
    "collapsed": true
   },
   "outputs": [],
   "source": [
    "random.seed(0)"
   ]
  },
  {
   "cell_type": "markdown",
   "metadata": {},
   "source": [
    "### Loading the features created in the feature engineering code"
   ]
  },
  {
   "cell_type": "code",
   "execution_count": 3,
   "metadata": {
    "collapsed": true
   },
   "outputs": [],
   "source": [
    "train = pd.read_csv('train_complete.csv', header = 0)\n",
    "test = pd.read_csv('test_complete.csv', header = 0)"
   ]
  },
  {
   "cell_type": "code",
   "execution_count": 4,
   "metadata": {
    "collapsed": true
   },
   "outputs": [],
   "source": [
    "features = ['Title overlap', 'Abstract overlap', 'Temporal difference', 'Common authors', 'Common journal',\n",
    "            'Cosine similarity', 'Authors in abstract', 'LSA distance', # Semantic features\n",
    "            'Betweenness centrality', 'Same cluster', 'Page rank', 'Ressource allocation', 'Jaccard coefficient',\n",
    "            'Adamic Adar', 'Preferential attachment', 'Target_indegree', 'Target_outdegree',\n",
    "            'Source_indegree', 'Source_outdegree', 'Common_in', 'Common_out' #Topological features\n",
    "           ]"
   ]
  },
  {
   "cell_type": "code",
   "execution_count": 5,
   "metadata": {
    "collapsed": true
   },
   "outputs": [],
   "source": [
    "training_features = train[features]\n",
    "testing_features = test[features]"
   ]
  },
  {
   "cell_type": "code",
   "execution_count": 6,
   "metadata": {
    "collapsed": true
   },
   "outputs": [],
   "source": [
    "labels_array = train['Edge']"
   ]
  },
  {
   "cell_type": "code",
   "execution_count": 7,
   "metadata": {},
   "outputs": [
    {
     "data": {
      "text/html": [
       "<div>\n",
       "<style scoped>\n",
       "    .dataframe tbody tr th:only-of-type {\n",
       "        vertical-align: middle;\n",
       "    }\n",
       "\n",
       "    .dataframe tbody tr th {\n",
       "        vertical-align: top;\n",
       "    }\n",
       "\n",
       "    .dataframe thead th {\n",
       "        text-align: right;\n",
       "    }\n",
       "</style>\n",
       "<table border=\"1\" class=\"dataframe\">\n",
       "  <thead>\n",
       "    <tr style=\"text-align: right;\">\n",
       "      <th></th>\n",
       "      <th>Title overlap</th>\n",
       "      <th>Abstract overlap</th>\n",
       "      <th>Temporal difference</th>\n",
       "      <th>Common authors</th>\n",
       "      <th>Common journal</th>\n",
       "      <th>Cosine similarity</th>\n",
       "      <th>Authors in abstract</th>\n",
       "      <th>LSA distance</th>\n",
       "      <th>Betweenness centrality</th>\n",
       "      <th>Same cluster</th>\n",
       "      <th>...</th>\n",
       "      <th>Ressource allocation</th>\n",
       "      <th>Jaccard coefficient</th>\n",
       "      <th>Adamic Adar</th>\n",
       "      <th>Preferential attachment</th>\n",
       "      <th>Target_indegree</th>\n",
       "      <th>Target_outdegree</th>\n",
       "      <th>Source_indegree</th>\n",
       "      <th>Source_outdegree</th>\n",
       "      <th>Common_in</th>\n",
       "      <th>Common_out</th>\n",
       "    </tr>\n",
       "  </thead>\n",
       "  <tbody>\n",
       "    <tr>\n",
       "      <th>0</th>\n",
       "      <td>2</td>\n",
       "      <td>4</td>\n",
       "      <td>0</td>\n",
       "      <td>0</td>\n",
       "      <td>1</td>\n",
       "      <td>0.039132</td>\n",
       "      <td>0</td>\n",
       "      <td>0.176262</td>\n",
       "      <td>8166.884091</td>\n",
       "      <td>0</td>\n",
       "      <td>...</td>\n",
       "      <td>0.142857</td>\n",
       "      <td>0.058824</td>\n",
       "      <td>0.513898</td>\n",
       "      <td>72</td>\n",
       "      <td>3.0</td>\n",
       "      <td>3.0</td>\n",
       "      <td>8.0</td>\n",
       "      <td>4.0</td>\n",
       "      <td>0.0</td>\n",
       "      <td>0.0</td>\n",
       "    </tr>\n",
       "    <tr>\n",
       "      <th>1</th>\n",
       "      <td>1</td>\n",
       "      <td>7</td>\n",
       "      <td>1</td>\n",
       "      <td>0</td>\n",
       "      <td>0</td>\n",
       "      <td>0.015247</td>\n",
       "      <td>0</td>\n",
       "      <td>0.185291</td>\n",
       "      <td>31162.082411</td>\n",
       "      <td>1</td>\n",
       "      <td>...</td>\n",
       "      <td>0.226401</td>\n",
       "      <td>0.097087</td>\n",
       "      <td>4.320366</td>\n",
       "      <td>11613</td>\n",
       "      <td>11.0</td>\n",
       "      <td>68.0</td>\n",
       "      <td>124.0</td>\n",
       "      <td>23.0</td>\n",
       "      <td>0.0</td>\n",
       "      <td>0.0</td>\n",
       "    </tr>\n",
       "    <tr>\n",
       "      <th>2</th>\n",
       "      <td>0</td>\n",
       "      <td>6</td>\n",
       "      <td>-2</td>\n",
       "      <td>0</td>\n",
       "      <td>0</td>\n",
       "      <td>0.008888</td>\n",
       "      <td>0</td>\n",
       "      <td>0.281976</td>\n",
       "      <td>-10559.734281</td>\n",
       "      <td>1</td>\n",
       "      <td>...</td>\n",
       "      <td>0.000000</td>\n",
       "      <td>0.000000</td>\n",
       "      <td>0.000000</td>\n",
       "      <td>5</td>\n",
       "      <td>1.0</td>\n",
       "      <td>0.0</td>\n",
       "      <td>2.0</td>\n",
       "      <td>3.0</td>\n",
       "      <td>0.0</td>\n",
       "      <td>0.0</td>\n",
       "    </tr>\n",
       "    <tr>\n",
       "      <th>3</th>\n",
       "      <td>0</td>\n",
       "      <td>8</td>\n",
       "      <td>-4</td>\n",
       "      <td>0</td>\n",
       "      <td>0</td>\n",
       "      <td>0.004740</td>\n",
       "      <td>0</td>\n",
       "      <td>0.306004</td>\n",
       "      <td>611.223395</td>\n",
       "      <td>0</td>\n",
       "      <td>...</td>\n",
       "      <td>0.000000</td>\n",
       "      <td>0.000000</td>\n",
       "      <td>0.000000</td>\n",
       "      <td>280</td>\n",
       "      <td>4.0</td>\n",
       "      <td>16.0</td>\n",
       "      <td>2.0</td>\n",
       "      <td>12.0</td>\n",
       "      <td>0.0</td>\n",
       "      <td>0.0</td>\n",
       "    </tr>\n",
       "    <tr>\n",
       "      <th>4</th>\n",
       "      <td>0</td>\n",
       "      <td>8</td>\n",
       "      <td>-5</td>\n",
       "      <td>0</td>\n",
       "      <td>0</td>\n",
       "      <td>0.027379</td>\n",
       "      <td>0</td>\n",
       "      <td>0.218788</td>\n",
       "      <td>-501.379284</td>\n",
       "      <td>1</td>\n",
       "      <td>...</td>\n",
       "      <td>0.000000</td>\n",
       "      <td>0.000000</td>\n",
       "      <td>0.000000</td>\n",
       "      <td>168</td>\n",
       "      <td>7.0</td>\n",
       "      <td>0.0</td>\n",
       "      <td>2.0</td>\n",
       "      <td>22.0</td>\n",
       "      <td>0.0</td>\n",
       "      <td>0.0</td>\n",
       "    </tr>\n",
       "  </tbody>\n",
       "</table>\n",
       "<p>5 rows × 21 columns</p>\n",
       "</div>"
      ],
      "text/plain": [
       "   Title overlap  Abstract overlap  Temporal difference  Common authors  \\\n",
       "0              2                 4                    0               0   \n",
       "1              1                 7                    1               0   \n",
       "2              0                 6                   -2               0   \n",
       "3              0                 8                   -4               0   \n",
       "4              0                 8                   -5               0   \n",
       "\n",
       "   Common journal  Cosine similarity  Authors in abstract  LSA distance  \\\n",
       "0               1           0.039132                    0      0.176262   \n",
       "1               0           0.015247                    0      0.185291   \n",
       "2               0           0.008888                    0      0.281976   \n",
       "3               0           0.004740                    0      0.306004   \n",
       "4               0           0.027379                    0      0.218788   \n",
       "\n",
       "   Betweenness centrality  Same cluster     ...      Ressource allocation  \\\n",
       "0             8166.884091             0     ...                  0.142857   \n",
       "1            31162.082411             1     ...                  0.226401   \n",
       "2           -10559.734281             1     ...                  0.000000   \n",
       "3              611.223395             0     ...                  0.000000   \n",
       "4             -501.379284             1     ...                  0.000000   \n",
       "\n",
       "   Jaccard coefficient  Adamic Adar  Preferential attachment  Target_indegree  \\\n",
       "0             0.058824     0.513898                       72              3.0   \n",
       "1             0.097087     4.320366                    11613             11.0   \n",
       "2             0.000000     0.000000                        5              1.0   \n",
       "3             0.000000     0.000000                      280              4.0   \n",
       "4             0.000000     0.000000                      168              7.0   \n",
       "\n",
       "   Target_outdegree  Source_indegree  Source_outdegree  Common_in  Common_out  \n",
       "0               3.0              8.0               4.0        0.0         0.0  \n",
       "1              68.0            124.0              23.0        0.0         0.0  \n",
       "2               0.0              2.0               3.0        0.0         0.0  \n",
       "3              16.0              2.0              12.0        0.0         0.0  \n",
       "4               0.0              2.0              22.0        0.0         0.0  \n",
       "\n",
       "[5 rows x 21 columns]"
      ]
     },
     "execution_count": 7,
     "metadata": {},
     "output_type": "execute_result"
    }
   ],
   "source": [
    "training_features.head()"
   ]
  },
  {
   "cell_type": "code",
   "execution_count": 8,
   "metadata": {},
   "outputs": [
    {
     "data": {
      "text/html": [
       "<div>\n",
       "<style scoped>\n",
       "    .dataframe tbody tr th:only-of-type {\n",
       "        vertical-align: middle;\n",
       "    }\n",
       "\n",
       "    .dataframe tbody tr th {\n",
       "        vertical-align: top;\n",
       "    }\n",
       "\n",
       "    .dataframe thead th {\n",
       "        text-align: right;\n",
       "    }\n",
       "</style>\n",
       "<table border=\"1\" class=\"dataframe\">\n",
       "  <thead>\n",
       "    <tr style=\"text-align: right;\">\n",
       "      <th></th>\n",
       "      <th>Title overlap</th>\n",
       "      <th>Abstract overlap</th>\n",
       "      <th>Temporal difference</th>\n",
       "      <th>Common authors</th>\n",
       "      <th>Common journal</th>\n",
       "      <th>Cosine similarity</th>\n",
       "      <th>Authors in abstract</th>\n",
       "      <th>LSA distance</th>\n",
       "      <th>Betweenness centrality</th>\n",
       "      <th>Same cluster</th>\n",
       "      <th>...</th>\n",
       "      <th>Ressource allocation</th>\n",
       "      <th>Jaccard coefficient</th>\n",
       "      <th>Adamic Adar</th>\n",
       "      <th>Preferential attachment</th>\n",
       "      <th>Target_indegree</th>\n",
       "      <th>Target_outdegree</th>\n",
       "      <th>Source_indegree</th>\n",
       "      <th>Source_outdegree</th>\n",
       "      <th>Common_in</th>\n",
       "      <th>Common_out</th>\n",
       "    </tr>\n",
       "  </thead>\n",
       "  <tbody>\n",
       "    <tr>\n",
       "      <th>0</th>\n",
       "      <td>0</td>\n",
       "      <td>7</td>\n",
       "      <td>0</td>\n",
       "      <td>0</td>\n",
       "      <td>0</td>\n",
       "      <td>0.055452</td>\n",
       "      <td>0</td>\n",
       "      <td>0.137422</td>\n",
       "      <td>2.136205e+05</td>\n",
       "      <td>0</td>\n",
       "      <td>...</td>\n",
       "      <td>0.000000</td>\n",
       "      <td>0.000000</td>\n",
       "      <td>0.000000</td>\n",
       "      <td>1062</td>\n",
       "      <td>49.0</td>\n",
       "      <td>10.0</td>\n",
       "      <td>3.0</td>\n",
       "      <td>15.0</td>\n",
       "      <td>0.0</td>\n",
       "      <td>0.0</td>\n",
       "    </tr>\n",
       "    <tr>\n",
       "      <th>1</th>\n",
       "      <td>2</td>\n",
       "      <td>6</td>\n",
       "      <td>1</td>\n",
       "      <td>0</td>\n",
       "      <td>1</td>\n",
       "      <td>0.110670</td>\n",
       "      <td>0</td>\n",
       "      <td>0.246302</td>\n",
       "      <td>1.121793e+06</td>\n",
       "      <td>1</td>\n",
       "      <td>...</td>\n",
       "      <td>0.311535</td>\n",
       "      <td>0.074303</td>\n",
       "      <td>5.377973</td>\n",
       "      <td>13590</td>\n",
       "      <td>100.0</td>\n",
       "      <td>203.0</td>\n",
       "      <td>39.0</td>\n",
       "      <td>6.0</td>\n",
       "      <td>0.0</td>\n",
       "      <td>0.0</td>\n",
       "    </tr>\n",
       "    <tr>\n",
       "      <th>2</th>\n",
       "      <td>1</td>\n",
       "      <td>4</td>\n",
       "      <td>2</td>\n",
       "      <td>0</td>\n",
       "      <td>1</td>\n",
       "      <td>0.043831</td>\n",
       "      <td>0</td>\n",
       "      <td>0.281266</td>\n",
       "      <td>2.305727e+05</td>\n",
       "      <td>0</td>\n",
       "      <td>...</td>\n",
       "      <td>1.342594</td>\n",
       "      <td>0.065338</td>\n",
       "      <td>15.053612</td>\n",
       "      <td>164797</td>\n",
       "      <td>209.0</td>\n",
       "      <td>14.0</td>\n",
       "      <td>726.0</td>\n",
       "      <td>13.0</td>\n",
       "      <td>0.0</td>\n",
       "      <td>0.0</td>\n",
       "    </tr>\n",
       "    <tr>\n",
       "      <th>3</th>\n",
       "      <td>1</td>\n",
       "      <td>13</td>\n",
       "      <td>0</td>\n",
       "      <td>0</td>\n",
       "      <td>1</td>\n",
       "      <td>0.054856</td>\n",
       "      <td>0</td>\n",
       "      <td>0.251033</td>\n",
       "      <td>6.989486e+05</td>\n",
       "      <td>1</td>\n",
       "      <td>...</td>\n",
       "      <td>0.298419</td>\n",
       "      <td>0.221053</td>\n",
       "      <td>4.899424</td>\n",
       "      <td>3315</td>\n",
       "      <td>11.0</td>\n",
       "      <td>40.0</td>\n",
       "      <td>16.0</td>\n",
       "      <td>49.0</td>\n",
       "      <td>0.0</td>\n",
       "      <td>0.0</td>\n",
       "    </tr>\n",
       "    <tr>\n",
       "      <th>4</th>\n",
       "      <td>0</td>\n",
       "      <td>4</td>\n",
       "      <td>5</td>\n",
       "      <td>0</td>\n",
       "      <td>0</td>\n",
       "      <td>0.147222</td>\n",
       "      <td>0</td>\n",
       "      <td>0.199901</td>\n",
       "      <td>-2.600592e+04</td>\n",
       "      <td>0</td>\n",
       "      <td>...</td>\n",
       "      <td>0.000000</td>\n",
       "      <td>0.000000</td>\n",
       "      <td>0.000000</td>\n",
       "      <td>1050</td>\n",
       "      <td>1.0</td>\n",
       "      <td>6.0</td>\n",
       "      <td>144.0</td>\n",
       "      <td>6.0</td>\n",
       "      <td>0.0</td>\n",
       "      <td>0.0</td>\n",
       "    </tr>\n",
       "  </tbody>\n",
       "</table>\n",
       "<p>5 rows × 21 columns</p>\n",
       "</div>"
      ],
      "text/plain": [
       "   Title overlap  Abstract overlap  Temporal difference  Common authors  \\\n",
       "0              0                 7                    0               0   \n",
       "1              2                 6                    1               0   \n",
       "2              1                 4                    2               0   \n",
       "3              1                13                    0               0   \n",
       "4              0                 4                    5               0   \n",
       "\n",
       "   Common journal  Cosine similarity  Authors in abstract  LSA distance  \\\n",
       "0               0           0.055452                    0      0.137422   \n",
       "1               1           0.110670                    0      0.246302   \n",
       "2               1           0.043831                    0      0.281266   \n",
       "3               1           0.054856                    0      0.251033   \n",
       "4               0           0.147222                    0      0.199901   \n",
       "\n",
       "   Betweenness centrality  Same cluster     ...      Ressource allocation  \\\n",
       "0            2.136205e+05             0     ...                  0.000000   \n",
       "1            1.121793e+06             1     ...                  0.311535   \n",
       "2            2.305727e+05             0     ...                  1.342594   \n",
       "3            6.989486e+05             1     ...                  0.298419   \n",
       "4           -2.600592e+04             0     ...                  0.000000   \n",
       "\n",
       "   Jaccard coefficient  Adamic Adar  Preferential attachment  Target_indegree  \\\n",
       "0             0.000000     0.000000                     1062             49.0   \n",
       "1             0.074303     5.377973                    13590            100.0   \n",
       "2             0.065338    15.053612                   164797            209.0   \n",
       "3             0.221053     4.899424                     3315             11.0   \n",
       "4             0.000000     0.000000                     1050              1.0   \n",
       "\n",
       "   Target_outdegree  Source_indegree  Source_outdegree  Common_in  Common_out  \n",
       "0              10.0              3.0              15.0        0.0         0.0  \n",
       "1             203.0             39.0               6.0        0.0         0.0  \n",
       "2              14.0            726.0              13.0        0.0         0.0  \n",
       "3              40.0             16.0              49.0        0.0         0.0  \n",
       "4               6.0            144.0               6.0        0.0         0.0  \n",
       "\n",
       "[5 rows x 21 columns]"
      ]
     },
     "execution_count": 8,
     "metadata": {},
     "output_type": "execute_result"
    }
   ],
   "source": [
    "testing_features.head()"
   ]
  },
  {
   "cell_type": "code",
   "execution_count": 9,
   "metadata": {},
   "outputs": [
    {
     "name": "stdout",
     "output_type": "stream",
     "text": [
      "(615512, 21)\n",
      "(32648, 21)\n"
     ]
    }
   ],
   "source": [
    "print training_features.shape\n",
    "print testing_features.shape"
   ]
  },
  {
   "cell_type": "code",
   "execution_count": 10,
   "metadata": {},
   "outputs": [
    {
     "name": "stdout",
     "output_type": "stream",
     "text": [
      "[nltk_data] Downloading package punkt to\n",
      "[nltk_data]     /Users/delavergne/nltk_data...\n",
      "[nltk_data]   Package punkt is already up-to-date!\n",
      "[nltk_data] Downloading package stopwords to\n",
      "[nltk_data]     /Users/delavergne/nltk_data...\n",
      "[nltk_data]   Package stopwords is already up-to-date!\n"
     ]
    }
   ],
   "source": [
    "nltk.download('punkt') # for tokenization\n",
    "nltk.download('stopwords')\n",
    "stpwds = set(nltk.corpus.stopwords.words(\"english\"))\n",
    "stemmer = nltk.stem.PorterStemmer()\n",
    "\n",
    "with open(\"data/testing_set.txt\", \"r\") as f:\n",
    "    reader = csv.reader(f)\n",
    "    testing_set  = list(reader)\n",
    "\n",
    "testing_set = [element[0].split(\" \") for element in testing_set]\n",
    "\n",
    "###################\n",
    "# random baseline #\n",
    "###################\n",
    "\n",
    "random_predictions = np.random.choice([0, 1], size=len(testing_set))\n",
    "random_predictions = zip(range(len(testing_set)),random_predictions)\n",
    "\n",
    "with open(\"data/random_predictions.csv\",\"wb\") as pred:\n",
    "    csv_out = csv.writer(pred)\n",
    "    for row in random_predictions:\n",
    "        csv_out.writerow(row)\n",
    "        \n",
    "# note: Kaggle requires that you add \"ID\" and \"category\" column headers\n",
    "\n",
    "###############################\n",
    "# beating the random baseline #\n",
    "###############################\n",
    "\n",
    "# the following script gets an F1 score of approximately 0.66\n",
    "\n",
    "# data loading and preprocessing \n",
    "\n",
    "# the columns of the data frame below are: \n",
    "# (1) paper unique ID (integer)\n",
    "# (2) publication year (integer)\n",
    "# (3) paper title (string)\n",
    "# (4) authors (strings separated by ,)\n",
    "# (5) name of journal (optional) (string)\n",
    "# (6) abstract (string) - lowercased, free of punctuation except intra-word dashes\n",
    "\n",
    "with open(\"data/training_set.txt\", \"r\") as f:\n",
    "    reader = csv.reader(f)\n",
    "    training_set  = list(reader)\n",
    "\n",
    "training_set = [element[0].split(\" \") for element in training_set]\n",
    "\n",
    "with open(\"data/node_information.csv\", \"r\") as f:\n",
    "    reader = csv.reader(f)\n",
    "    node_info  = list(reader)"
   ]
  },
  {
   "cell_type": "markdown",
   "metadata": {},
   "source": [
    "<a id=\"2\"></a>\n",
    "## 2. Predictions with different classifiers"
   ]
  },
  {
   "cell_type": "markdown",
   "metadata": {},
   "source": [
    "### Scaling the data"
   ]
  },
  {
   "cell_type": "code",
   "execution_count": 11,
   "metadata": {
    "collapsed": true
   },
   "outputs": [],
   "source": [
    "from sklearn import preprocessing\n",
    "min_max_scaler = preprocessing.MinMaxScaler()\n",
    "training_features = min_max_scaler.fit_transform(training_features)\n",
    "testing_features = min_max_scaler.transform(testing_features)"
   ]
  },
  {
   "cell_type": "markdown",
   "metadata": {},
   "source": [
    "<a id=\"2a\"></a>\n",
    "## A - SVM"
   ]
  },
  {
   "cell_type": "code",
   "execution_count": 12,
   "metadata": {
    "collapsed": true
   },
   "outputs": [],
   "source": [
    "# initialize basic SVM\n",
    "classifier = svm.LinearSVC()"
   ]
  },
  {
   "cell_type": "code",
   "execution_count": 15,
   "metadata": {},
   "outputs": [
    {
     "name": "stderr",
     "output_type": "stream",
     "text": [
      "/Users/delavergne/anaconda3/envs/NLP/lib/python2.7/site-packages/sklearn/cross_validation.py:41: DeprecationWarning: This module was deprecated in version 0.18 in favor of the model_selection module into which all the refactored classes and functions are moved. Also note that the interface of the new CV iterators are different from that of this module. This module will be removed in 0.20.\n",
      "  \"This module will be removed in 0.20.\", DeprecationWarning)\n"
     ]
    },
    {
     "data": {
      "text/plain": [
       "0.96441523689045106"
      ]
     },
     "execution_count": 15,
     "metadata": {},
     "output_type": "execute_result"
    }
   ],
   "source": [
    "from sklearn import cross_validation\n",
    "np.mean(cross_validation.cross_val_score(classifier, training_features, labels_array, cv=3, scoring =\"f1\"))"
   ]
  },
  {
   "cell_type": "code",
   "execution_count": 16,
   "metadata": {},
   "outputs": [
    {
     "name": "stdout",
     "output_type": "stream",
     "text": [
      "CPU times: user 12.4 s, sys: 333 ms, total: 12.7 s\n",
      "Wall time: 13.1 s\n"
     ]
    },
    {
     "data": {
      "text/plain": [
       "LinearSVC(C=1.0, class_weight=None, dual=True, fit_intercept=True,\n",
       "     intercept_scaling=1, loss='squared_hinge', max_iter=1000,\n",
       "     multi_class='ovr', penalty='l2', random_state=None, tol=0.0001,\n",
       "     verbose=0)"
      ]
     },
     "execution_count": 16,
     "metadata": {},
     "output_type": "execute_result"
    }
   ],
   "source": [
    "%%time\n",
    "#train\n",
    "classifier.fit(training_features, labels_array)"
   ]
  },
  {
   "cell_type": "code",
   "execution_count": 17,
   "metadata": {
    "collapsed": true
   },
   "outputs": [],
   "source": [
    "# issue predictions\n",
    "predictions_SVM = list(classifier.predict(testing_features))\n",
    "\n",
    "# write predictions to .csv file suitable for Kaggle (just make sure to add the column names)\n",
    "predictions_SVM = zip(range(len(testing_set)), predictions_SVM)\n",
    "test = pd.DataFrame(predictions_SVM)\n",
    "sub = test.copy()\n",
    "sub['id']=sub.index\n",
    "sub['category'] = sub[1]\n",
    "sub = sub[['id', 'category']]"
   ]
  },
  {
   "cell_type": "code",
   "execution_count": 18,
   "metadata": {},
   "outputs": [
    {
     "data": {
      "text/html": [
       "<div>\n",
       "<style scoped>\n",
       "    .dataframe tbody tr th:only-of-type {\n",
       "        vertical-align: middle;\n",
       "    }\n",
       "\n",
       "    .dataframe tbody tr th {\n",
       "        vertical-align: top;\n",
       "    }\n",
       "\n",
       "    .dataframe thead th {\n",
       "        text-align: right;\n",
       "    }\n",
       "</style>\n",
       "<table border=\"1\" class=\"dataframe\">\n",
       "  <thead>\n",
       "    <tr style=\"text-align: right;\">\n",
       "      <th></th>\n",
       "      <th>id</th>\n",
       "      <th>category</th>\n",
       "    </tr>\n",
       "  </thead>\n",
       "  <tbody>\n",
       "    <tr>\n",
       "      <th>0</th>\n",
       "      <td>0</td>\n",
       "      <td>0</td>\n",
       "    </tr>\n",
       "    <tr>\n",
       "      <th>1</th>\n",
       "      <td>1</td>\n",
       "      <td>1</td>\n",
       "    </tr>\n",
       "    <tr>\n",
       "      <th>2</th>\n",
       "      <td>2</td>\n",
       "      <td>1</td>\n",
       "    </tr>\n",
       "    <tr>\n",
       "      <th>3</th>\n",
       "      <td>3</td>\n",
       "      <td>1</td>\n",
       "    </tr>\n",
       "    <tr>\n",
       "      <th>4</th>\n",
       "      <td>4</td>\n",
       "      <td>1</td>\n",
       "    </tr>\n",
       "    <tr>\n",
       "      <th>5</th>\n",
       "      <td>5</td>\n",
       "      <td>0</td>\n",
       "    </tr>\n",
       "    <tr>\n",
       "      <th>6</th>\n",
       "      <td>6</td>\n",
       "      <td>0</td>\n",
       "    </tr>\n",
       "    <tr>\n",
       "      <th>7</th>\n",
       "      <td>7</td>\n",
       "      <td>1</td>\n",
       "    </tr>\n",
       "    <tr>\n",
       "      <th>8</th>\n",
       "      <td>8</td>\n",
       "      <td>0</td>\n",
       "    </tr>\n",
       "    <tr>\n",
       "      <th>9</th>\n",
       "      <td>9</td>\n",
       "      <td>1</td>\n",
       "    </tr>\n",
       "  </tbody>\n",
       "</table>\n",
       "</div>"
      ],
      "text/plain": [
       "   id  category\n",
       "0   0         0\n",
       "1   1         1\n",
       "2   2         1\n",
       "3   3         1\n",
       "4   4         1\n",
       "5   5         0\n",
       "6   6         0\n",
       "7   7         1\n",
       "8   8         0\n",
       "9   9         1"
      ]
     },
     "execution_count": 18,
     "metadata": {},
     "output_type": "execute_result"
    }
   ],
   "source": [
    "sub.head(10)"
   ]
  },
  {
   "cell_type": "code",
   "execution_count": null,
   "metadata": {
    "collapsed": true
   },
   "outputs": [],
   "source": [
    "#sub.to_csv('sub/sub_SVM.csv', index=False)"
   ]
  },
  {
   "cell_type": "markdown",
   "metadata": {},
   "source": [
    "<a id=\"2b\"></a>\n",
    "## B - Random forest "
   ]
  },
  {
   "cell_type": "code",
   "execution_count": 19,
   "metadata": {
    "collapsed": true
   },
   "outputs": [],
   "source": [
    "from sklearn.ensemble import RandomForestClassifier\n",
    "from sklearn.ensemble import AdaBoostClassifier"
   ]
  },
  {
   "cell_type": "code",
   "execution_count": 22,
   "metadata": {
    "collapsed": true
   },
   "outputs": [],
   "source": [
    "#%%time\n",
    "# Random Forest\n",
    "#for i in np.linspace(300, 400, num = 10).tolist():\n",
    "#    RF = RandomForestClassifier(n_estimators=int(i), \n",
    "#                            max_features = 5,\n",
    "#                            max_depth = 7)\n",
    "#    scores = cross_validation.cross_val_score(RF, training_features, labels_array, cv=5, scoring = \"f1\")\n",
    "#\n",
    "#    print 'trees: ', i, ' score: ', np.mean(scores)"
   ]
  },
  {
   "cell_type": "code",
   "execution_count": 23,
   "metadata": {},
   "outputs": [
    {
     "name": "stdout",
     "output_type": "stream",
     "text": [
      "CPU times: user 10min 5s, sys: 5.17 s, total: 10min 10s\n",
      "Wall time: 10min 12s\n"
     ]
    }
   ],
   "source": [
    "%%time\n",
    "RF = RandomForestClassifier(max_features = 5,\n",
    "                            n_estimators = 400,\n",
    "                            max_depth = 7)\n",
    "RF.fit(training_features, labels_array)"
   ]
  },
  {
   "cell_type": "code",
   "execution_count": 24,
   "metadata": {
    "collapsed": true
   },
   "outputs": [],
   "source": [
    "predictions_RF_pr = RF.predict_proba(testing_features)"
   ]
  },
  {
   "cell_type": "code",
   "execution_count": 25,
   "metadata": {
    "collapsed": true
   },
   "outputs": [],
   "source": [
    "predictions_RF_cutoff = []\n",
    "for pred in predictions_RF_pr:\n",
    "    if pred[1] >=0.7:\n",
    "        predictions_RF_cutoff.append(1)\n",
    "    else:\n",
    "        predictions_RF_cutoff.append(0)"
   ]
  },
  {
   "cell_type": "code",
   "execution_count": 26,
   "metadata": {
    "collapsed": true
   },
   "outputs": [],
   "source": [
    "sub['category'] = predictions_RF_cutoff"
   ]
  },
  {
   "cell_type": "code",
   "execution_count": 27,
   "metadata": {},
   "outputs": [
    {
     "data": {
      "text/html": [
       "<div>\n",
       "<style scoped>\n",
       "    .dataframe tbody tr th:only-of-type {\n",
       "        vertical-align: middle;\n",
       "    }\n",
       "\n",
       "    .dataframe tbody tr th {\n",
       "        vertical-align: top;\n",
       "    }\n",
       "\n",
       "    .dataframe thead th {\n",
       "        text-align: right;\n",
       "    }\n",
       "</style>\n",
       "<table border=\"1\" class=\"dataframe\">\n",
       "  <thead>\n",
       "    <tr style=\"text-align: right;\">\n",
       "      <th></th>\n",
       "      <th>id</th>\n",
       "      <th>category</th>\n",
       "    </tr>\n",
       "  </thead>\n",
       "  <tbody>\n",
       "    <tr>\n",
       "      <th>0</th>\n",
       "      <td>0</td>\n",
       "      <td>0</td>\n",
       "    </tr>\n",
       "    <tr>\n",
       "      <th>1</th>\n",
       "      <td>1</td>\n",
       "      <td>1</td>\n",
       "    </tr>\n",
       "    <tr>\n",
       "      <th>2</th>\n",
       "      <td>2</td>\n",
       "      <td>1</td>\n",
       "    </tr>\n",
       "    <tr>\n",
       "      <th>3</th>\n",
       "      <td>3</td>\n",
       "      <td>1</td>\n",
       "    </tr>\n",
       "    <tr>\n",
       "      <th>4</th>\n",
       "      <td>4</td>\n",
       "      <td>0</td>\n",
       "    </tr>\n",
       "    <tr>\n",
       "      <th>5</th>\n",
       "      <td>5</td>\n",
       "      <td>0</td>\n",
       "    </tr>\n",
       "    <tr>\n",
       "      <th>6</th>\n",
       "      <td>6</td>\n",
       "      <td>0</td>\n",
       "    </tr>\n",
       "    <tr>\n",
       "      <th>7</th>\n",
       "      <td>7</td>\n",
       "      <td>1</td>\n",
       "    </tr>\n",
       "    <tr>\n",
       "      <th>8</th>\n",
       "      <td>8</td>\n",
       "      <td>0</td>\n",
       "    </tr>\n",
       "    <tr>\n",
       "      <th>9</th>\n",
       "      <td>9</td>\n",
       "      <td>1</td>\n",
       "    </tr>\n",
       "  </tbody>\n",
       "</table>\n",
       "</div>"
      ],
      "text/plain": [
       "   id  category\n",
       "0   0         0\n",
       "1   1         1\n",
       "2   2         1\n",
       "3   3         1\n",
       "4   4         0\n",
       "5   5         0\n",
       "6   6         0\n",
       "7   7         1\n",
       "8   8         0\n",
       "9   9         1"
      ]
     },
     "execution_count": 27,
     "metadata": {},
     "output_type": "execute_result"
    }
   ],
   "source": [
    "sub.head(10)"
   ]
  },
  {
   "cell_type": "code",
   "execution_count": null,
   "metadata": {
    "collapsed": true
   },
   "outputs": [],
   "source": [
    "#sub.to_csv('sub/sub_RF.csv', index=False)"
   ]
  },
  {
   "cell_type": "markdown",
   "metadata": {},
   "source": [
    "<a id=\"2c\"></a>\n",
    "## C - Random forest with AdaBoost"
   ]
  },
  {
   "cell_type": "code",
   "execution_count": 28,
   "metadata": {
    "collapsed": true
   },
   "outputs": [],
   "source": [
    "#for i in np.linspace(10, 200, num = 20).tolist():\n",
    "#    clf = AdaBoostClassifier(base_estimator = RandomForestClassifier(n_estimators = 400,\n",
    "#                            max_features = 5,\n",
    "#                            max_depth = 7), n_estimators=int(i))\n",
    "#    scores = cross_validation.cross_val_score(clf, training_features, labels_array, cv=3, scoring = 'f1')\n",
    "#    print 'estimators: ', i, ' score: ', np.mean(scores)"
   ]
  },
  {
   "cell_type": "code",
   "execution_count": 29,
   "metadata": {
    "collapsed": true
   },
   "outputs": [
    {
     "ename": "KeyboardInterrupt",
     "evalue": "",
     "output_type": "error",
     "traceback": [
      "\u001b[0;31m---------------------------------------------------------------------------\u001b[0m",
      "\u001b[0;31mKeyboardInterrupt\u001b[0m                         Traceback (most recent call last)",
      "\u001b[0;32m<ipython-input-29-7c2f103c2bfc>\u001b[0m in \u001b[0;36m<module>\u001b[0;34m()\u001b[0m\n\u001b[0;32m----> 1\u001b[0;31m \u001b[0mget_ipython\u001b[0m\u001b[0;34m(\u001b[0m\u001b[0;34m)\u001b[0m\u001b[0;34m.\u001b[0m\u001b[0mrun_cell_magic\u001b[0m\u001b[0;34m(\u001b[0m\u001b[0;34mu'time'\u001b[0m\u001b[0;34m,\u001b[0m \u001b[0;34mu''\u001b[0m\u001b[0;34m,\u001b[0m \u001b[0;34mu'clf = AdaBoostClassifier(base_estimator = RandomForestClassifier(n_estimators = 170, max_depth = 7, max_features = 5),\\n                         n_estimators=50)\\nclf.fit(training_features, labels_array)'\u001b[0m\u001b[0;34m)\u001b[0m\u001b[0;34m\u001b[0m\u001b[0m\n\u001b[0m",
      "\u001b[0;32m/Users/delavergne/anaconda3/envs/NLP/lib/python2.7/site-packages/IPython/core/interactiveshell.pyc\u001b[0m in \u001b[0;36mrun_cell_magic\u001b[0;34m(self, magic_name, line, cell)\u001b[0m\n\u001b[1;32m   2115\u001b[0m             \u001b[0mmagic_arg_s\u001b[0m \u001b[0;34m=\u001b[0m \u001b[0mself\u001b[0m\u001b[0;34m.\u001b[0m\u001b[0mvar_expand\u001b[0m\u001b[0;34m(\u001b[0m\u001b[0mline\u001b[0m\u001b[0;34m,\u001b[0m \u001b[0mstack_depth\u001b[0m\u001b[0;34m)\u001b[0m\u001b[0;34m\u001b[0m\u001b[0m\n\u001b[1;32m   2116\u001b[0m             \u001b[0;32mwith\u001b[0m \u001b[0mself\u001b[0m\u001b[0;34m.\u001b[0m\u001b[0mbuiltin_trap\u001b[0m\u001b[0;34m:\u001b[0m\u001b[0;34m\u001b[0m\u001b[0m\n\u001b[0;32m-> 2117\u001b[0;31m                 \u001b[0mresult\u001b[0m \u001b[0;34m=\u001b[0m \u001b[0mfn\u001b[0m\u001b[0;34m(\u001b[0m\u001b[0mmagic_arg_s\u001b[0m\u001b[0;34m,\u001b[0m \u001b[0mcell\u001b[0m\u001b[0;34m)\u001b[0m\u001b[0;34m\u001b[0m\u001b[0m\n\u001b[0m\u001b[1;32m   2118\u001b[0m             \u001b[0;32mreturn\u001b[0m \u001b[0mresult\u001b[0m\u001b[0;34m\u001b[0m\u001b[0m\n\u001b[1;32m   2119\u001b[0m \u001b[0;34m\u001b[0m\u001b[0m\n",
      "\u001b[0;32m<decorator-gen-60>\u001b[0m in \u001b[0;36mtime\u001b[0;34m(self, line, cell, local_ns)\u001b[0m\n",
      "\u001b[0;32m/Users/delavergne/anaconda3/envs/NLP/lib/python2.7/site-packages/IPython/core/magic.pyc\u001b[0m in \u001b[0;36m<lambda>\u001b[0;34m(f, *a, **k)\u001b[0m\n\u001b[1;32m    186\u001b[0m     \u001b[0;31m# but it's overkill for just that one bit of state.\u001b[0m\u001b[0;34m\u001b[0m\u001b[0;34m\u001b[0m\u001b[0m\n\u001b[1;32m    187\u001b[0m     \u001b[0;32mdef\u001b[0m \u001b[0mmagic_deco\u001b[0m\u001b[0;34m(\u001b[0m\u001b[0marg\u001b[0m\u001b[0;34m)\u001b[0m\u001b[0;34m:\u001b[0m\u001b[0;34m\u001b[0m\u001b[0m\n\u001b[0;32m--> 188\u001b[0;31m         \u001b[0mcall\u001b[0m \u001b[0;34m=\u001b[0m \u001b[0;32mlambda\u001b[0m \u001b[0mf\u001b[0m\u001b[0;34m,\u001b[0m \u001b[0;34m*\u001b[0m\u001b[0ma\u001b[0m\u001b[0;34m,\u001b[0m \u001b[0;34m**\u001b[0m\u001b[0mk\u001b[0m\u001b[0;34m:\u001b[0m \u001b[0mf\u001b[0m\u001b[0;34m(\u001b[0m\u001b[0;34m*\u001b[0m\u001b[0ma\u001b[0m\u001b[0;34m,\u001b[0m \u001b[0;34m**\u001b[0m\u001b[0mk\u001b[0m\u001b[0;34m)\u001b[0m\u001b[0;34m\u001b[0m\u001b[0m\n\u001b[0m\u001b[1;32m    189\u001b[0m \u001b[0;34m\u001b[0m\u001b[0m\n\u001b[1;32m    190\u001b[0m         \u001b[0;32mif\u001b[0m \u001b[0mcallable\u001b[0m\u001b[0;34m(\u001b[0m\u001b[0marg\u001b[0m\u001b[0;34m)\u001b[0m\u001b[0;34m:\u001b[0m\u001b[0;34m\u001b[0m\u001b[0m\n",
      "\u001b[0;32m/Users/delavergne/anaconda3/envs/NLP/lib/python2.7/site-packages/IPython/core/magics/execution.pyc\u001b[0m in \u001b[0;36mtime\u001b[0;34m(self, line, cell, local_ns)\u001b[0m\n\u001b[1;32m   1183\u001b[0m         \u001b[0;32melse\u001b[0m\u001b[0;34m:\u001b[0m\u001b[0;34m\u001b[0m\u001b[0m\n\u001b[1;32m   1184\u001b[0m             \u001b[0mst\u001b[0m \u001b[0;34m=\u001b[0m \u001b[0mclock2\u001b[0m\u001b[0;34m(\u001b[0m\u001b[0;34m)\u001b[0m\u001b[0;34m\u001b[0m\u001b[0m\n\u001b[0;32m-> 1185\u001b[0;31m             \u001b[0;32mexec\u001b[0m\u001b[0;34m(\u001b[0m\u001b[0mcode\u001b[0m\u001b[0;34m,\u001b[0m \u001b[0mglob\u001b[0m\u001b[0;34m,\u001b[0m \u001b[0mlocal_ns\u001b[0m\u001b[0;34m)\u001b[0m\u001b[0;34m\u001b[0m\u001b[0m\n\u001b[0m\u001b[1;32m   1186\u001b[0m             \u001b[0mend\u001b[0m \u001b[0;34m=\u001b[0m \u001b[0mclock2\u001b[0m\u001b[0;34m(\u001b[0m\u001b[0;34m)\u001b[0m\u001b[0;34m\u001b[0m\u001b[0m\n\u001b[1;32m   1187\u001b[0m             \u001b[0mout\u001b[0m \u001b[0;34m=\u001b[0m \u001b[0mNone\u001b[0m\u001b[0;34m\u001b[0m\u001b[0m\n",
      "\u001b[0;32m<timed exec>\u001b[0m in \u001b[0;36m<module>\u001b[0;34m()\u001b[0m\n",
      "\u001b[0;32m/Users/delavergne/anaconda3/envs/NLP/lib/python2.7/site-packages/sklearn/ensemble/weight_boosting.pyc\u001b[0m in \u001b[0;36mfit\u001b[0;34m(self, X, y, sample_weight)\u001b[0m\n\u001b[1;32m    411\u001b[0m \u001b[0;34m\u001b[0m\u001b[0m\n\u001b[1;32m    412\u001b[0m         \u001b[0;31m# Fit\u001b[0m\u001b[0;34m\u001b[0m\u001b[0;34m\u001b[0m\u001b[0m\n\u001b[0;32m--> 413\u001b[0;31m         \u001b[0;32mreturn\u001b[0m \u001b[0msuper\u001b[0m\u001b[0;34m(\u001b[0m\u001b[0mAdaBoostClassifier\u001b[0m\u001b[0;34m,\u001b[0m \u001b[0mself\u001b[0m\u001b[0;34m)\u001b[0m\u001b[0;34m.\u001b[0m\u001b[0mfit\u001b[0m\u001b[0;34m(\u001b[0m\u001b[0mX\u001b[0m\u001b[0;34m,\u001b[0m \u001b[0my\u001b[0m\u001b[0;34m,\u001b[0m \u001b[0msample_weight\u001b[0m\u001b[0;34m)\u001b[0m\u001b[0;34m\u001b[0m\u001b[0m\n\u001b[0m\u001b[1;32m    414\u001b[0m \u001b[0;34m\u001b[0m\u001b[0m\n\u001b[1;32m    415\u001b[0m     \u001b[0;32mdef\u001b[0m \u001b[0m_validate_estimator\u001b[0m\u001b[0;34m(\u001b[0m\u001b[0mself\u001b[0m\u001b[0;34m)\u001b[0m\u001b[0;34m:\u001b[0m\u001b[0;34m\u001b[0m\u001b[0m\n",
      "\u001b[0;32m/Users/delavergne/anaconda3/envs/NLP/lib/python2.7/site-packages/sklearn/ensemble/weight_boosting.pyc\u001b[0m in \u001b[0;36mfit\u001b[0;34m(self, X, y, sample_weight)\u001b[0m\n\u001b[1;32m    143\u001b[0m                 \u001b[0mX\u001b[0m\u001b[0;34m,\u001b[0m \u001b[0my\u001b[0m\u001b[0;34m,\u001b[0m\u001b[0;34m\u001b[0m\u001b[0m\n\u001b[1;32m    144\u001b[0m                 \u001b[0msample_weight\u001b[0m\u001b[0;34m,\u001b[0m\u001b[0;34m\u001b[0m\u001b[0m\n\u001b[0;32m--> 145\u001b[0;31m                 random_state)\n\u001b[0m\u001b[1;32m    146\u001b[0m \u001b[0;34m\u001b[0m\u001b[0m\n\u001b[1;32m    147\u001b[0m             \u001b[0;31m# Early termination\u001b[0m\u001b[0;34m\u001b[0m\u001b[0;34m\u001b[0m\u001b[0m\n",
      "\u001b[0;32m/Users/delavergne/anaconda3/envs/NLP/lib/python2.7/site-packages/sklearn/ensemble/weight_boosting.pyc\u001b[0m in \u001b[0;36m_boost\u001b[0;34m(self, iboost, X, y, sample_weight, random_state)\u001b[0m\n\u001b[1;32m    471\u001b[0m         \"\"\"\n\u001b[1;32m    472\u001b[0m         \u001b[0;32mif\u001b[0m \u001b[0mself\u001b[0m\u001b[0;34m.\u001b[0m\u001b[0malgorithm\u001b[0m \u001b[0;34m==\u001b[0m \u001b[0;34m'SAMME.R'\u001b[0m\u001b[0;34m:\u001b[0m\u001b[0;34m\u001b[0m\u001b[0m\n\u001b[0;32m--> 473\u001b[0;31m             \u001b[0;32mreturn\u001b[0m \u001b[0mself\u001b[0m\u001b[0;34m.\u001b[0m\u001b[0m_boost_real\u001b[0m\u001b[0;34m(\u001b[0m\u001b[0miboost\u001b[0m\u001b[0;34m,\u001b[0m \u001b[0mX\u001b[0m\u001b[0;34m,\u001b[0m \u001b[0my\u001b[0m\u001b[0;34m,\u001b[0m \u001b[0msample_weight\u001b[0m\u001b[0;34m,\u001b[0m \u001b[0mrandom_state\u001b[0m\u001b[0;34m)\u001b[0m\u001b[0;34m\u001b[0m\u001b[0m\n\u001b[0m\u001b[1;32m    474\u001b[0m \u001b[0;34m\u001b[0m\u001b[0m\n\u001b[1;32m    475\u001b[0m         \u001b[0;32melse\u001b[0m\u001b[0;34m:\u001b[0m  \u001b[0;31m# elif self.algorithm == \"SAMME\":\u001b[0m\u001b[0;34m\u001b[0m\u001b[0m\n",
      "\u001b[0;32m/Users/delavergne/anaconda3/envs/NLP/lib/python2.7/site-packages/sklearn/ensemble/weight_boosting.pyc\u001b[0m in \u001b[0;36m_boost_real\u001b[0;34m(self, iboost, X, y, sample_weight, random_state)\u001b[0m\n\u001b[1;32m    481\u001b[0m         \u001b[0mestimator\u001b[0m \u001b[0;34m=\u001b[0m \u001b[0mself\u001b[0m\u001b[0;34m.\u001b[0m\u001b[0m_make_estimator\u001b[0m\u001b[0;34m(\u001b[0m\u001b[0mrandom_state\u001b[0m\u001b[0;34m=\u001b[0m\u001b[0mrandom_state\u001b[0m\u001b[0;34m)\u001b[0m\u001b[0;34m\u001b[0m\u001b[0m\n\u001b[1;32m    482\u001b[0m \u001b[0;34m\u001b[0m\u001b[0m\n\u001b[0;32m--> 483\u001b[0;31m         \u001b[0mestimator\u001b[0m\u001b[0;34m.\u001b[0m\u001b[0mfit\u001b[0m\u001b[0;34m(\u001b[0m\u001b[0mX\u001b[0m\u001b[0;34m,\u001b[0m \u001b[0my\u001b[0m\u001b[0;34m,\u001b[0m \u001b[0msample_weight\u001b[0m\u001b[0;34m=\u001b[0m\u001b[0msample_weight\u001b[0m\u001b[0;34m)\u001b[0m\u001b[0;34m\u001b[0m\u001b[0m\n\u001b[0m\u001b[1;32m    484\u001b[0m \u001b[0;34m\u001b[0m\u001b[0m\n\u001b[1;32m    485\u001b[0m         \u001b[0my_predict_proba\u001b[0m \u001b[0;34m=\u001b[0m \u001b[0mestimator\u001b[0m\u001b[0;34m.\u001b[0m\u001b[0mpredict_proba\u001b[0m\u001b[0;34m(\u001b[0m\u001b[0mX\u001b[0m\u001b[0;34m)\u001b[0m\u001b[0;34m\u001b[0m\u001b[0m\n",
      "\u001b[0;32m/Users/delavergne/anaconda3/envs/NLP/lib/python2.7/site-packages/sklearn/ensemble/forest.pyc\u001b[0m in \u001b[0;36mfit\u001b[0;34m(self, X, y, sample_weight)\u001b[0m\n\u001b[1;32m    326\u001b[0m                     \u001b[0mt\u001b[0m\u001b[0;34m,\u001b[0m \u001b[0mself\u001b[0m\u001b[0;34m,\u001b[0m \u001b[0mX\u001b[0m\u001b[0;34m,\u001b[0m \u001b[0my\u001b[0m\u001b[0;34m,\u001b[0m \u001b[0msample_weight\u001b[0m\u001b[0;34m,\u001b[0m \u001b[0mi\u001b[0m\u001b[0;34m,\u001b[0m \u001b[0mlen\u001b[0m\u001b[0;34m(\u001b[0m\u001b[0mtrees\u001b[0m\u001b[0;34m)\u001b[0m\u001b[0;34m,\u001b[0m\u001b[0;34m\u001b[0m\u001b[0m\n\u001b[1;32m    327\u001b[0m                     verbose=self.verbose, class_weight=self.class_weight)\n\u001b[0;32m--> 328\u001b[0;31m                 for i, t in enumerate(trees))\n\u001b[0m\u001b[1;32m    329\u001b[0m \u001b[0;34m\u001b[0m\u001b[0m\n\u001b[1;32m    330\u001b[0m             \u001b[0;31m# Collect newly grown trees\u001b[0m\u001b[0;34m\u001b[0m\u001b[0;34m\u001b[0m\u001b[0m\n",
      "\u001b[0;32m/Users/delavergne/anaconda3/envs/NLP/lib/python2.7/site-packages/sklearn/externals/joblib/parallel.pyc\u001b[0m in \u001b[0;36m__call__\u001b[0;34m(self, iterable)\u001b[0m\n\u001b[1;32m    777\u001b[0m             \u001b[0;31m# was dispatched. In particular this covers the edge\u001b[0m\u001b[0;34m\u001b[0m\u001b[0;34m\u001b[0m\u001b[0m\n\u001b[1;32m    778\u001b[0m             \u001b[0;31m# case of Parallel used with an exhausted iterator.\u001b[0m\u001b[0;34m\u001b[0m\u001b[0;34m\u001b[0m\u001b[0m\n\u001b[0;32m--> 779\u001b[0;31m             \u001b[0;32mwhile\u001b[0m \u001b[0mself\u001b[0m\u001b[0;34m.\u001b[0m\u001b[0mdispatch_one_batch\u001b[0m\u001b[0;34m(\u001b[0m\u001b[0miterator\u001b[0m\u001b[0;34m)\u001b[0m\u001b[0;34m:\u001b[0m\u001b[0;34m\u001b[0m\u001b[0m\n\u001b[0m\u001b[1;32m    780\u001b[0m                 \u001b[0mself\u001b[0m\u001b[0;34m.\u001b[0m\u001b[0m_iterating\u001b[0m \u001b[0;34m=\u001b[0m \u001b[0mTrue\u001b[0m\u001b[0;34m\u001b[0m\u001b[0m\n\u001b[1;32m    781\u001b[0m             \u001b[0;32melse\u001b[0m\u001b[0;34m:\u001b[0m\u001b[0;34m\u001b[0m\u001b[0m\n",
      "\u001b[0;32m/Users/delavergne/anaconda3/envs/NLP/lib/python2.7/site-packages/sklearn/externals/joblib/parallel.pyc\u001b[0m in \u001b[0;36mdispatch_one_batch\u001b[0;34m(self, iterator)\u001b[0m\n\u001b[1;32m    623\u001b[0m                 \u001b[0;32mreturn\u001b[0m \u001b[0mFalse\u001b[0m\u001b[0;34m\u001b[0m\u001b[0m\n\u001b[1;32m    624\u001b[0m             \u001b[0;32melse\u001b[0m\u001b[0;34m:\u001b[0m\u001b[0;34m\u001b[0m\u001b[0m\n\u001b[0;32m--> 625\u001b[0;31m                 \u001b[0mself\u001b[0m\u001b[0;34m.\u001b[0m\u001b[0m_dispatch\u001b[0m\u001b[0;34m(\u001b[0m\u001b[0mtasks\u001b[0m\u001b[0;34m)\u001b[0m\u001b[0;34m\u001b[0m\u001b[0m\n\u001b[0m\u001b[1;32m    626\u001b[0m                 \u001b[0;32mreturn\u001b[0m \u001b[0mTrue\u001b[0m\u001b[0;34m\u001b[0m\u001b[0m\n\u001b[1;32m    627\u001b[0m \u001b[0;34m\u001b[0m\u001b[0m\n",
      "\u001b[0;32m/Users/delavergne/anaconda3/envs/NLP/lib/python2.7/site-packages/sklearn/externals/joblib/parallel.pyc\u001b[0m in \u001b[0;36m_dispatch\u001b[0;34m(self, batch)\u001b[0m\n\u001b[1;32m    586\u001b[0m         \u001b[0mdispatch_timestamp\u001b[0m \u001b[0;34m=\u001b[0m \u001b[0mtime\u001b[0m\u001b[0;34m.\u001b[0m\u001b[0mtime\u001b[0m\u001b[0;34m(\u001b[0m\u001b[0;34m)\u001b[0m\u001b[0;34m\u001b[0m\u001b[0m\n\u001b[1;32m    587\u001b[0m         \u001b[0mcb\u001b[0m \u001b[0;34m=\u001b[0m \u001b[0mBatchCompletionCallBack\u001b[0m\u001b[0;34m(\u001b[0m\u001b[0mdispatch_timestamp\u001b[0m\u001b[0;34m,\u001b[0m \u001b[0mlen\u001b[0m\u001b[0;34m(\u001b[0m\u001b[0mbatch\u001b[0m\u001b[0;34m)\u001b[0m\u001b[0;34m,\u001b[0m \u001b[0mself\u001b[0m\u001b[0;34m)\u001b[0m\u001b[0;34m\u001b[0m\u001b[0m\n\u001b[0;32m--> 588\u001b[0;31m         \u001b[0mjob\u001b[0m \u001b[0;34m=\u001b[0m \u001b[0mself\u001b[0m\u001b[0;34m.\u001b[0m\u001b[0m_backend\u001b[0m\u001b[0;34m.\u001b[0m\u001b[0mapply_async\u001b[0m\u001b[0;34m(\u001b[0m\u001b[0mbatch\u001b[0m\u001b[0;34m,\u001b[0m \u001b[0mcallback\u001b[0m\u001b[0;34m=\u001b[0m\u001b[0mcb\u001b[0m\u001b[0;34m)\u001b[0m\u001b[0;34m\u001b[0m\u001b[0m\n\u001b[0m\u001b[1;32m    589\u001b[0m         \u001b[0mself\u001b[0m\u001b[0;34m.\u001b[0m\u001b[0m_jobs\u001b[0m\u001b[0;34m.\u001b[0m\u001b[0mappend\u001b[0m\u001b[0;34m(\u001b[0m\u001b[0mjob\u001b[0m\u001b[0;34m)\u001b[0m\u001b[0;34m\u001b[0m\u001b[0m\n\u001b[1;32m    590\u001b[0m \u001b[0;34m\u001b[0m\u001b[0m\n",
      "\u001b[0;32m/Users/delavergne/anaconda3/envs/NLP/lib/python2.7/site-packages/sklearn/externals/joblib/_parallel_backends.pyc\u001b[0m in \u001b[0;36mapply_async\u001b[0;34m(self, func, callback)\u001b[0m\n\u001b[1;32m    109\u001b[0m     \u001b[0;32mdef\u001b[0m \u001b[0mapply_async\u001b[0m\u001b[0;34m(\u001b[0m\u001b[0mself\u001b[0m\u001b[0;34m,\u001b[0m \u001b[0mfunc\u001b[0m\u001b[0;34m,\u001b[0m \u001b[0mcallback\u001b[0m\u001b[0;34m=\u001b[0m\u001b[0mNone\u001b[0m\u001b[0;34m)\u001b[0m\u001b[0;34m:\u001b[0m\u001b[0;34m\u001b[0m\u001b[0m\n\u001b[1;32m    110\u001b[0m         \u001b[0;34m\"\"\"Schedule a func to be run\"\"\"\u001b[0m\u001b[0;34m\u001b[0m\u001b[0m\n\u001b[0;32m--> 111\u001b[0;31m         \u001b[0mresult\u001b[0m \u001b[0;34m=\u001b[0m \u001b[0mImmediateResult\u001b[0m\u001b[0;34m(\u001b[0m\u001b[0mfunc\u001b[0m\u001b[0;34m)\u001b[0m\u001b[0;34m\u001b[0m\u001b[0m\n\u001b[0m\u001b[1;32m    112\u001b[0m         \u001b[0;32mif\u001b[0m \u001b[0mcallback\u001b[0m\u001b[0;34m:\u001b[0m\u001b[0;34m\u001b[0m\u001b[0m\n\u001b[1;32m    113\u001b[0m             \u001b[0mcallback\u001b[0m\u001b[0;34m(\u001b[0m\u001b[0mresult\u001b[0m\u001b[0;34m)\u001b[0m\u001b[0;34m\u001b[0m\u001b[0m\n",
      "\u001b[0;32m/Users/delavergne/anaconda3/envs/NLP/lib/python2.7/site-packages/sklearn/externals/joblib/_parallel_backends.pyc\u001b[0m in \u001b[0;36m__init__\u001b[0;34m(self, batch)\u001b[0m\n\u001b[1;32m    330\u001b[0m         \u001b[0;31m# Don't delay the application, to avoid keeping the input\u001b[0m\u001b[0;34m\u001b[0m\u001b[0;34m\u001b[0m\u001b[0m\n\u001b[1;32m    331\u001b[0m         \u001b[0;31m# arguments in memory\u001b[0m\u001b[0;34m\u001b[0m\u001b[0;34m\u001b[0m\u001b[0m\n\u001b[0;32m--> 332\u001b[0;31m         \u001b[0mself\u001b[0m\u001b[0;34m.\u001b[0m\u001b[0mresults\u001b[0m \u001b[0;34m=\u001b[0m \u001b[0mbatch\u001b[0m\u001b[0;34m(\u001b[0m\u001b[0;34m)\u001b[0m\u001b[0;34m\u001b[0m\u001b[0m\n\u001b[0m\u001b[1;32m    333\u001b[0m \u001b[0;34m\u001b[0m\u001b[0m\n\u001b[1;32m    334\u001b[0m     \u001b[0;32mdef\u001b[0m \u001b[0mget\u001b[0m\u001b[0;34m(\u001b[0m\u001b[0mself\u001b[0m\u001b[0;34m)\u001b[0m\u001b[0;34m:\u001b[0m\u001b[0;34m\u001b[0m\u001b[0m\n",
      "\u001b[0;32m/Users/delavergne/anaconda3/envs/NLP/lib/python2.7/site-packages/sklearn/externals/joblib/parallel.pyc\u001b[0m in \u001b[0;36m__call__\u001b[0;34m(self)\u001b[0m\n\u001b[1;32m    129\u001b[0m \u001b[0;34m\u001b[0m\u001b[0m\n\u001b[1;32m    130\u001b[0m     \u001b[0;32mdef\u001b[0m \u001b[0m__call__\u001b[0m\u001b[0;34m(\u001b[0m\u001b[0mself\u001b[0m\u001b[0;34m)\u001b[0m\u001b[0;34m:\u001b[0m\u001b[0;34m\u001b[0m\u001b[0m\n\u001b[0;32m--> 131\u001b[0;31m         \u001b[0;32mreturn\u001b[0m \u001b[0;34m[\u001b[0m\u001b[0mfunc\u001b[0m\u001b[0;34m(\u001b[0m\u001b[0;34m*\u001b[0m\u001b[0margs\u001b[0m\u001b[0;34m,\u001b[0m \u001b[0;34m**\u001b[0m\u001b[0mkwargs\u001b[0m\u001b[0;34m)\u001b[0m \u001b[0;32mfor\u001b[0m \u001b[0mfunc\u001b[0m\u001b[0;34m,\u001b[0m \u001b[0margs\u001b[0m\u001b[0;34m,\u001b[0m \u001b[0mkwargs\u001b[0m \u001b[0;32min\u001b[0m \u001b[0mself\u001b[0m\u001b[0;34m.\u001b[0m\u001b[0mitems\u001b[0m\u001b[0;34m]\u001b[0m\u001b[0;34m\u001b[0m\u001b[0m\n\u001b[0m\u001b[1;32m    132\u001b[0m \u001b[0;34m\u001b[0m\u001b[0m\n\u001b[1;32m    133\u001b[0m     \u001b[0;32mdef\u001b[0m \u001b[0m__len__\u001b[0m\u001b[0;34m(\u001b[0m\u001b[0mself\u001b[0m\u001b[0;34m)\u001b[0m\u001b[0;34m:\u001b[0m\u001b[0;34m\u001b[0m\u001b[0m\n",
      "\u001b[0;32m/Users/delavergne/anaconda3/envs/NLP/lib/python2.7/site-packages/sklearn/ensemble/forest.pyc\u001b[0m in \u001b[0;36m_parallel_build_trees\u001b[0;34m(tree, forest, X, y, sample_weight, tree_idx, n_trees, verbose, class_weight)\u001b[0m\n\u001b[1;32m    119\u001b[0m             \u001b[0mcurr_sample_weight\u001b[0m \u001b[0;34m*=\u001b[0m \u001b[0mcompute_sample_weight\u001b[0m\u001b[0;34m(\u001b[0m\u001b[0;34m'balanced'\u001b[0m\u001b[0;34m,\u001b[0m \u001b[0my\u001b[0m\u001b[0;34m,\u001b[0m \u001b[0mindices\u001b[0m\u001b[0;34m)\u001b[0m\u001b[0;34m\u001b[0m\u001b[0m\n\u001b[1;32m    120\u001b[0m \u001b[0;34m\u001b[0m\u001b[0m\n\u001b[0;32m--> 121\u001b[0;31m         \u001b[0mtree\u001b[0m\u001b[0;34m.\u001b[0m\u001b[0mfit\u001b[0m\u001b[0;34m(\u001b[0m\u001b[0mX\u001b[0m\u001b[0;34m,\u001b[0m \u001b[0my\u001b[0m\u001b[0;34m,\u001b[0m \u001b[0msample_weight\u001b[0m\u001b[0;34m=\u001b[0m\u001b[0mcurr_sample_weight\u001b[0m\u001b[0;34m,\u001b[0m \u001b[0mcheck_input\u001b[0m\u001b[0;34m=\u001b[0m\u001b[0mFalse\u001b[0m\u001b[0;34m)\u001b[0m\u001b[0;34m\u001b[0m\u001b[0m\n\u001b[0m\u001b[1;32m    122\u001b[0m     \u001b[0;32melse\u001b[0m\u001b[0;34m:\u001b[0m\u001b[0;34m\u001b[0m\u001b[0m\n\u001b[1;32m    123\u001b[0m         \u001b[0mtree\u001b[0m\u001b[0;34m.\u001b[0m\u001b[0mfit\u001b[0m\u001b[0;34m(\u001b[0m\u001b[0mX\u001b[0m\u001b[0;34m,\u001b[0m \u001b[0my\u001b[0m\u001b[0;34m,\u001b[0m \u001b[0msample_weight\u001b[0m\u001b[0;34m=\u001b[0m\u001b[0msample_weight\u001b[0m\u001b[0;34m,\u001b[0m \u001b[0mcheck_input\u001b[0m\u001b[0;34m=\u001b[0m\u001b[0mFalse\u001b[0m\u001b[0;34m)\u001b[0m\u001b[0;34m\u001b[0m\u001b[0m\n",
      "\u001b[0;32m/Users/delavergne/anaconda3/envs/NLP/lib/python2.7/site-packages/sklearn/tree/tree.pyc\u001b[0m in \u001b[0;36mfit\u001b[0;34m(self, X, y, sample_weight, check_input, X_idx_sorted)\u001b[0m\n\u001b[1;32m    788\u001b[0m             \u001b[0msample_weight\u001b[0m\u001b[0;34m=\u001b[0m\u001b[0msample_weight\u001b[0m\u001b[0;34m,\u001b[0m\u001b[0;34m\u001b[0m\u001b[0m\n\u001b[1;32m    789\u001b[0m             \u001b[0mcheck_input\u001b[0m\u001b[0;34m=\u001b[0m\u001b[0mcheck_input\u001b[0m\u001b[0;34m,\u001b[0m\u001b[0;34m\u001b[0m\u001b[0m\n\u001b[0;32m--> 790\u001b[0;31m             X_idx_sorted=X_idx_sorted)\n\u001b[0m\u001b[1;32m    791\u001b[0m         \u001b[0;32mreturn\u001b[0m \u001b[0mself\u001b[0m\u001b[0;34m\u001b[0m\u001b[0m\n\u001b[1;32m    792\u001b[0m \u001b[0;34m\u001b[0m\u001b[0m\n",
      "\u001b[0;32m/Users/delavergne/anaconda3/envs/NLP/lib/python2.7/site-packages/sklearn/tree/tree.pyc\u001b[0m in \u001b[0;36mfit\u001b[0;34m(self, X, y, sample_weight, check_input, X_idx_sorted)\u001b[0m\n\u001b[1;32m    360\u001b[0m                                            min_impurity_split)\n\u001b[1;32m    361\u001b[0m \u001b[0;34m\u001b[0m\u001b[0m\n\u001b[0;32m--> 362\u001b[0;31m         \u001b[0mbuilder\u001b[0m\u001b[0;34m.\u001b[0m\u001b[0mbuild\u001b[0m\u001b[0;34m(\u001b[0m\u001b[0mself\u001b[0m\u001b[0;34m.\u001b[0m\u001b[0mtree_\u001b[0m\u001b[0;34m,\u001b[0m \u001b[0mX\u001b[0m\u001b[0;34m,\u001b[0m \u001b[0my\u001b[0m\u001b[0;34m,\u001b[0m \u001b[0msample_weight\u001b[0m\u001b[0;34m,\u001b[0m \u001b[0mX_idx_sorted\u001b[0m\u001b[0;34m)\u001b[0m\u001b[0;34m\u001b[0m\u001b[0m\n\u001b[0m\u001b[1;32m    363\u001b[0m \u001b[0;34m\u001b[0m\u001b[0m\n\u001b[1;32m    364\u001b[0m         \u001b[0;32mif\u001b[0m \u001b[0mself\u001b[0m\u001b[0;34m.\u001b[0m\u001b[0mn_outputs_\u001b[0m \u001b[0;34m==\u001b[0m \u001b[0;36m1\u001b[0m\u001b[0;34m:\u001b[0m\u001b[0;34m\u001b[0m\u001b[0m\n",
      "\u001b[0;31mKeyboardInterrupt\u001b[0m: "
     ]
    }
   ],
   "source": [
    "%%time\n",
    "clf = AdaBoostClassifier(base_estimator = RandomForestClassifier(n_estimators = 170, max_depth = 7, max_features = 5),\n",
    "                         n_estimators=50)\n",
    "clf.fit(training_features, labels_array)"
   ]
  },
  {
   "cell_type": "code",
   "execution_count": null,
   "metadata": {
    "collapsed": true
   },
   "outputs": [],
   "source": [
    "predictions_Ada = clf.predict(testing_features)"
   ]
  },
  {
   "cell_type": "code",
   "execution_count": null,
   "metadata": {
    "collapsed": true
   },
   "outputs": [],
   "source": [
    "sub['category'] = predictions_Ada"
   ]
  },
  {
   "cell_type": "code",
   "execution_count": null,
   "metadata": {
    "collapsed": true
   },
   "outputs": [],
   "source": [
    "sub.head(10)"
   ]
  },
  {
   "cell_type": "code",
   "execution_count": null,
   "metadata": {
    "collapsed": true
   },
   "outputs": [],
   "source": [
    "#sub.to_csv('sub/sub_RFwAdaB.csv', index=False)"
   ]
  },
  {
   "cell_type": "markdown",
   "metadata": {},
   "source": [
    "<a id=\"2d\"></a>\n",
    "## D- Extra tree classifier"
   ]
  },
  {
   "cell_type": "code",
   "execution_count": 30,
   "metadata": {
    "collapsed": true
   },
   "outputs": [],
   "source": [
    "from sklearn.ensemble import ExtraTreesClassifier\n",
    "xrf = ExtraTreesClassifier(max_features=None, min_samples_leaf= 20, n_estimators = 300, n_jobs= 3)"
   ]
  },
  {
   "cell_type": "code",
   "execution_count": 31,
   "metadata": {},
   "outputs": [
    {
     "name": "stdout",
     "output_type": "stream",
     "text": [
      "CPU times: user 14min 31s, sys: 4.92 s, total: 14min 36s\n",
      "Wall time: 4min 54s\n"
     ]
    },
    {
     "data": {
      "text/plain": [
       "ExtraTreesClassifier(bootstrap=False, class_weight=None, criterion='gini',\n",
       "           max_depth=None, max_features=None, max_leaf_nodes=None,\n",
       "           min_impurity_decrease=0.0, min_impurity_split=None,\n",
       "           min_samples_leaf=20, min_samples_split=2,\n",
       "           min_weight_fraction_leaf=0.0, n_estimators=300, n_jobs=3,\n",
       "           oob_score=False, random_state=None, verbose=0, warm_start=False)"
      ]
     },
     "execution_count": 31,
     "metadata": {},
     "output_type": "execute_result"
    }
   ],
   "source": [
    "%%time\n",
    "xrf.fit(training_features, labels_array)"
   ]
  },
  {
   "cell_type": "code",
   "execution_count": 32,
   "metadata": {
    "collapsed": true
   },
   "outputs": [],
   "source": [
    "proba_xrf = xrf.predict_proba(testing_features)"
   ]
  },
  {
   "cell_type": "code",
   "execution_count": 33,
   "metadata": {
    "collapsed": true
   },
   "outputs": [],
   "source": [
    "predictions_xrf_cutoff = []\n",
    "for pred in proba_xrf:\n",
    "    if pred[1] >=0.7:\n",
    "        predictions_xrf_cutoff.append(1)\n",
    "    else:\n",
    "        predictions_xrf_cutoff.append(0)"
   ]
  },
  {
   "cell_type": "code",
   "execution_count": 36,
   "metadata": {
    "collapsed": true
   },
   "outputs": [],
   "source": [
    "sub['category'] = predictions_xrf_cutoff"
   ]
  },
  {
   "cell_type": "code",
   "execution_count": 37,
   "metadata": {},
   "outputs": [
    {
     "data": {
      "text/html": [
       "<div>\n",
       "<style scoped>\n",
       "    .dataframe tbody tr th:only-of-type {\n",
       "        vertical-align: middle;\n",
       "    }\n",
       "\n",
       "    .dataframe tbody tr th {\n",
       "        vertical-align: top;\n",
       "    }\n",
       "\n",
       "    .dataframe thead th {\n",
       "        text-align: right;\n",
       "    }\n",
       "</style>\n",
       "<table border=\"1\" class=\"dataframe\">\n",
       "  <thead>\n",
       "    <tr style=\"text-align: right;\">\n",
       "      <th></th>\n",
       "      <th>id</th>\n",
       "      <th>category</th>\n",
       "    </tr>\n",
       "  </thead>\n",
       "  <tbody>\n",
       "    <tr>\n",
       "      <th>0</th>\n",
       "      <td>0</td>\n",
       "      <td>0</td>\n",
       "    </tr>\n",
       "    <tr>\n",
       "      <th>1</th>\n",
       "      <td>1</td>\n",
       "      <td>1</td>\n",
       "    </tr>\n",
       "    <tr>\n",
       "      <th>2</th>\n",
       "      <td>2</td>\n",
       "      <td>1</td>\n",
       "    </tr>\n",
       "    <tr>\n",
       "      <th>3</th>\n",
       "      <td>3</td>\n",
       "      <td>1</td>\n",
       "    </tr>\n",
       "    <tr>\n",
       "      <th>4</th>\n",
       "      <td>4</td>\n",
       "      <td>0</td>\n",
       "    </tr>\n",
       "    <tr>\n",
       "      <th>5</th>\n",
       "      <td>5</td>\n",
       "      <td>0</td>\n",
       "    </tr>\n",
       "    <tr>\n",
       "      <th>6</th>\n",
       "      <td>6</td>\n",
       "      <td>0</td>\n",
       "    </tr>\n",
       "    <tr>\n",
       "      <th>7</th>\n",
       "      <td>7</td>\n",
       "      <td>1</td>\n",
       "    </tr>\n",
       "    <tr>\n",
       "      <th>8</th>\n",
       "      <td>8</td>\n",
       "      <td>0</td>\n",
       "    </tr>\n",
       "    <tr>\n",
       "      <th>9</th>\n",
       "      <td>9</td>\n",
       "      <td>1</td>\n",
       "    </tr>\n",
       "  </tbody>\n",
       "</table>\n",
       "</div>"
      ],
      "text/plain": [
       "   id  category\n",
       "0   0         0\n",
       "1   1         1\n",
       "2   2         1\n",
       "3   3         1\n",
       "4   4         0\n",
       "5   5         0\n",
       "6   6         0\n",
       "7   7         1\n",
       "8   8         0\n",
       "9   9         1"
      ]
     },
     "execution_count": 37,
     "metadata": {},
     "output_type": "execute_result"
    }
   ],
   "source": [
    "sub.head(10)"
   ]
  },
  {
   "cell_type": "code",
   "execution_count": null,
   "metadata": {
    "collapsed": true
   },
   "outputs": [],
   "source": [
    "#sub.to_csv('sub/sub_XRF.csv', index=False)"
   ]
  },
  {
   "cell_type": "markdown",
   "metadata": {},
   "source": [
    "<a id=\"2e\"></a>\n",
    "## E - Extra Gradient Boosting"
   ]
  },
  {
   "cell_type": "code",
   "execution_count": 75,
   "metadata": {
    "collapsed": true
   },
   "outputs": [],
   "source": [
    "from sklearn.model_selection import StratifiedKFold\n",
    "kfold = 3\n",
    "skf = StratifiedKFold(n_splits=kfold, random_state=10)\n",
    "\n",
    "def xgb_score(preds, dtrain):\n",
    "    labels = dtrain.get_label()\n",
    "    return 'log_loss', metrics.log_loss(labels, preds)"
   ]
  },
  {
   "cell_type": "code",
   "execution_count": 77,
   "metadata": {
    "collapsed": true
   },
   "outputs": [],
   "source": [
    "import xgboost as xgb"
   ]
  },
  {
   "cell_type": "code",
   "execution_count": null,
   "metadata": {},
   "outputs": [
    {
     "name": "stdout",
     "output_type": "stream",
     "text": [
      "[Fold 1/3]\n"
     ]
    }
   ],
   "source": [
    "%%time\n",
    "X= training_features\n",
    "#X = X_train_normalized.values \n",
    "y= labels_array\n",
    "pred =0\n",
    "\n",
    "for i, (train_index, test_index) in enumerate(skf.split(X, y)):\n",
    "    params = {\n",
    "        'eta': 0.01, \n",
    "        'max_depth': 5,\n",
    "        'min_child_weight':0,\n",
    "        'objective': 'binary:logistic',\n",
    "        'eval_metric': 'logloss',\n",
    "        'gamma':0,\n",
    "        'subsample':0.8,\n",
    "        'colsample_bytree':0.8,\n",
    "        'seed': i,\n",
    "        'silent': True\n",
    "    }\n",
    "    \n",
    "    print('[Fold %d/%d]' % (i + 1, kfold))\n",
    "    X_train, X_valid = X[train_index], X[test_index]\n",
    "    y_train, y_valid = y[train_index], y[test_index]\n",
    "    # Convert our data into XGBoost format\n",
    "    d_train = xgb.DMatrix(X_train, y_train)\n",
    "    d_valid = xgb.DMatrix(X_valid, y_valid)\n",
    "    d_test = xgb.DMatrix(testing_features)\n",
    "    watchlist = [(d_train, 'train'), (d_valid, 'valid')]\n",
    "\n",
    "\n",
    "    mdl = xgb.train(params, d_train, 5000, watchlist, early_stopping_rounds=50, feval=xgb_score, maximize=False, verbose_eval=50)\n",
    "\n",
    "    print('[Fold %d/%d Prediciton:]' % (i + 1, kfold))\n",
    "    # Predict on our test data\n",
    "    pred += mdl.predict(d_test, ntree_limit=mdl.best_ntree_limit)"
   ]
  },
  {
   "cell_type": "code",
   "execution_count": null,
   "metadata": {
    "collapsed": true
   },
   "outputs": [],
   "source": [
    "pred_xgb = pred/kfold\n",
    "pred_xgb = [int(round(prediction)) for prediction in pred]\n",
    "pred_xgb"
   ]
  },
  {
   "cell_type": "code",
   "execution_count": null,
   "metadata": {
    "collapsed": true
   },
   "outputs": [],
   "source": [
    "sub['category'] = pred_xgb"
   ]
  },
  {
   "cell_type": "code",
   "execution_count": null,
   "metadata": {
    "collapsed": true
   },
   "outputs": [],
   "source": [
    "#sub.to_csv('sub/sub_XGB.csv', index=False)"
   ]
  },
  {
   "cell_type": "markdown",
   "metadata": {},
   "source": [
    "<a id=\"2f\"></a>\n",
    "## F - LightGBM"
   ]
  },
  {
   "cell_type": "code",
   "execution_count": 38,
   "metadata": {
    "collapsed": true
   },
   "outputs": [],
   "source": [
    "lgb_params = {\n",
    "    'learning_rate': 0.07,\n",
    "        'max_depth': 5,\n",
    "        'task': 'train',\n",
    "        'boosting_type': 'gbdt',\n",
    "        'objective': 'binary',\n",
    "        'feature_fraction': 0.8,\n",
    "        'num_leaves':30,\n",
    "        'min_data_in_leaf':600,\n",
    "        'lambda_l1': 0.7,\n",
    "        'lambda_l2':0.6}"
   ]
  },
  {
   "cell_type": "code",
   "execution_count": 39,
   "metadata": {
    "collapsed": true
   },
   "outputs": [],
   "source": [
    "import lightgbm as lgb\n",
    "lgb_class = lgb.LGBMClassifier(n_estimators=2252)"
   ]
  },
  {
   "cell_type": "code",
   "execution_count": 40,
   "metadata": {
    "collapsed": true
   },
   "outputs": [],
   "source": [
    "from sklearn.model_selection import KFold\n",
    "K = 5\n",
    "cv = KFold(n_splits = K, shuffle = True, random_state=0)\n",
    "\n",
    "X = training_features\n",
    "X_test = testing_features\n",
    "y = labels_array.values"
   ]
  },
  {
   "cell_type": "code",
   "execution_count": 43,
   "metadata": {},
   "outputs": [
    {
     "name": "stdout",
     "output_type": "stream",
     "text": [
      "('Fold ', 0)\n",
      "[50]\tvalid_0's binary_logloss: 0.0712975\n",
      "[100]\tvalid_0's binary_logloss: 0.0661358\n",
      "[150]\tvalid_0's binary_logloss: 0.0860903\n",
      "[200]\tvalid_0's binary_logloss: 0.0941979\n",
      "[250]\tvalid_0's binary_logloss: 0.095925\n",
      "[300]\tvalid_0's binary_logloss: 0.0962043\n",
      "[350]\tvalid_0's binary_logloss: 0.0976698\n",
      "[400]\tvalid_0's binary_logloss: 0.0978682\n",
      "[450]\tvalid_0's binary_logloss: 0.0977961\n",
      "[500]\tvalid_0's binary_logloss: 0.0976426\n",
      "[550]\tvalid_0's binary_logloss: 0.0976045\n",
      "[600]\tvalid_0's binary_logloss: 0.0973372\n",
      "[650]\tvalid_0's binary_logloss: 0.0973786\n",
      "[700]\tvalid_0's binary_logloss: 0.0974113\n",
      "[750]\tvalid_0's binary_logloss: 0.0974302\n",
      "[800]\tvalid_0's binary_logloss: 0.097426\n",
      "[850]\tvalid_0's binary_logloss: 0.0974098\n",
      "[900]\tvalid_0's binary_logloss: 0.0974206\n",
      "[950]\tvalid_0's binary_logloss: 0.0974725\n",
      "[1000]\tvalid_0's binary_logloss: 0.0974947\n",
      "[1050]\tvalid_0's binary_logloss: 0.0975055\n",
      "[1100]\tvalid_0's binary_logloss: 0.0974636\n",
      "[1150]\tvalid_0's binary_logloss: 0.0974773\n",
      "[1200]\tvalid_0's binary_logloss: 0.0974645\n",
      "[1250]\tvalid_0's binary_logloss: 0.0974476\n",
      "[1300]\tvalid_0's binary_logloss: 0.0974288\n",
      "[1350]\tvalid_0's binary_logloss: 0.0974546\n",
      "[1400]\tvalid_0's binary_logloss: 0.0974569\n",
      "[1450]\tvalid_0's binary_logloss: 0.0975238\n",
      "[1500]\tvalid_0's binary_logloss: 0.097579\n",
      "[1550]\tvalid_0's binary_logloss: 0.0976067\n",
      "[1600]\tvalid_0's binary_logloss: 0.0976498\n",
      "[1650]\tvalid_0's binary_logloss: 0.097678\n",
      "[1700]\tvalid_0's binary_logloss: 0.0977154\n",
      "[1750]\tvalid_0's binary_logloss: 0.0977769\n",
      "[1800]\tvalid_0's binary_logloss: 0.0979029\n",
      "[1850]\tvalid_0's binary_logloss: 0.0979785\n",
      "[1900]\tvalid_0's binary_logloss: 0.0980475\n",
      "[1950]\tvalid_0's binary_logloss: 0.098163\n",
      "[2000]\tvalid_0's binary_logloss: 0.0982534\n",
      "[2050]\tvalid_0's binary_logloss: 0.0983355\n",
      "[2100]\tvalid_0's binary_logloss: 0.0984532\n",
      "[2150]\tvalid_0's binary_logloss: 0.0985919\n",
      "[2200]\tvalid_0's binary_logloss: 0.098677\n",
      "[2250]\tvalid_0's binary_logloss: 0.0987995\n",
      "0.97778341251\n",
      "('Fold ', 1)\n",
      "[50]\tvalid_0's binary_logloss: 0.0730818\n",
      "[100]\tvalid_0's binary_logloss: 0.0683283\n",
      "[150]\tvalid_0's binary_logloss: 0.0818156\n",
      "[200]\tvalid_0's binary_logloss: 0.0898993\n",
      "[250]\tvalid_0's binary_logloss: 0.0944663\n",
      "[300]\tvalid_0's binary_logloss: 0.097359\n",
      "[350]\tvalid_0's binary_logloss: 0.099258\n",
      "[400]\tvalid_0's binary_logloss: 0.100358\n",
      "[450]\tvalid_0's binary_logloss: 0.100501\n",
      "[500]\tvalid_0's binary_logloss: 0.10056\n",
      "[550]\tvalid_0's binary_logloss: 0.100504\n",
      "[600]\tvalid_0's binary_logloss: 0.10052\n",
      "[650]\tvalid_0's binary_logloss: 0.100496\n",
      "[700]\tvalid_0's binary_logloss: 0.100366\n",
      "[750]\tvalid_0's binary_logloss: 0.100441\n",
      "[800]\tvalid_0's binary_logloss: 0.100441\n",
      "[850]\tvalid_0's binary_logloss: 0.100465\n",
      "[900]\tvalid_0's binary_logloss: 0.10044\n",
      "[950]\tvalid_0's binary_logloss: 0.10049\n",
      "[1000]\tvalid_0's binary_logloss: 0.10052\n",
      "[1050]\tvalid_0's binary_logloss: 0.100512\n",
      "[1100]\tvalid_0's binary_logloss: 0.100559\n",
      "[1150]\tvalid_0's binary_logloss: 0.100526\n",
      "[1200]\tvalid_0's binary_logloss: 0.100566\n",
      "[1250]\tvalid_0's binary_logloss: 0.100774\n",
      "[1300]\tvalid_0's binary_logloss: 0.100776\n",
      "[1350]\tvalid_0's binary_logloss: 0.100824\n",
      "[1400]\tvalid_0's binary_logloss: 0.100885\n",
      "[1450]\tvalid_0's binary_logloss: 0.100991\n",
      "[1500]\tvalid_0's binary_logloss: 0.101014\n",
      "[1550]\tvalid_0's binary_logloss: 0.101105\n",
      "[1600]\tvalid_0's binary_logloss: 0.1012\n",
      "[1650]\tvalid_0's binary_logloss: 0.101233\n",
      "[1700]\tvalid_0's binary_logloss: 0.101277\n",
      "[1750]\tvalid_0's binary_logloss: 0.101379\n",
      "[1800]\tvalid_0's binary_logloss: 0.101436\n",
      "[1850]\tvalid_0's binary_logloss: 0.101483\n",
      "[1900]\tvalid_0's binary_logloss: 0.101566\n",
      "[1950]\tvalid_0's binary_logloss: 0.101667\n",
      "[2000]\tvalid_0's binary_logloss: 0.101762\n",
      "[2050]\tvalid_0's binary_logloss: 0.101873\n",
      "[2100]\tvalid_0's binary_logloss: 0.101938\n",
      "[2150]\tvalid_0's binary_logloss: 0.102021\n",
      "[2200]\tvalid_0's binary_logloss: 0.10208\n",
      "[2250]\tvalid_0's binary_logloss: 0.102178\n",
      "0.977045338461\n",
      "('Fold ', 2)\n",
      "[50]\tvalid_0's binary_logloss: 0.0724816\n",
      "[100]\tvalid_0's binary_logloss: 0.0672323\n",
      "[150]\tvalid_0's binary_logloss: 0.0811635\n",
      "[200]\tvalid_0's binary_logloss: 0.0933581\n",
      "[250]\tvalid_0's binary_logloss: 0.102222\n",
      "[300]\tvalid_0's binary_logloss: 0.104656\n",
      "[350]\tvalid_0's binary_logloss: 0.105235\n",
      "[400]\tvalid_0's binary_logloss: 0.105038\n",
      "[450]\tvalid_0's binary_logloss: 0.105623\n",
      "[500]\tvalid_0's binary_logloss: 0.105672\n",
      "[550]\tvalid_0's binary_logloss: 0.105707\n",
      "[600]\tvalid_0's binary_logloss: 0.105682\n",
      "[650]\tvalid_0's binary_logloss: 0.105712\n",
      "[700]\tvalid_0's binary_logloss: 0.105705\n",
      "[750]\tvalid_0's binary_logloss: 0.10577\n",
      "[800]\tvalid_0's binary_logloss: 0.105893\n",
      "[850]\tvalid_0's binary_logloss: 0.105851\n",
      "[900]\tvalid_0's binary_logloss: 0.105865\n",
      "[950]\tvalid_0's binary_logloss: 0.1059\n",
      "[1000]\tvalid_0's binary_logloss: 0.105996\n",
      "[1050]\tvalid_0's binary_logloss: 0.106062\n",
      "[1100]\tvalid_0's binary_logloss: 0.106089\n",
      "[1150]\tvalid_0's binary_logloss: 0.106137\n",
      "[1200]\tvalid_0's binary_logloss: 0.106131\n",
      "[1250]\tvalid_0's binary_logloss: 0.106178\n",
      "[1300]\tvalid_0's binary_logloss: 0.10628\n",
      "[1350]\tvalid_0's binary_logloss: 0.106322\n",
      "[1400]\tvalid_0's binary_logloss: 0.106342\n",
      "[1450]\tvalid_0's binary_logloss: 0.106343\n",
      "[1500]\tvalid_0's binary_logloss: 0.106394\n",
      "[1550]\tvalid_0's binary_logloss: 0.106438\n",
      "[1600]\tvalid_0's binary_logloss: 0.106555\n",
      "[1650]\tvalid_0's binary_logloss: 0.106602\n",
      "[1700]\tvalid_0's binary_logloss: 0.1067\n",
      "[1750]\tvalid_0's binary_logloss: 0.106749\n",
      "[1800]\tvalid_0's binary_logloss: 0.106778\n",
      "[1850]\tvalid_0's binary_logloss: 0.106919\n",
      "[1900]\tvalid_0's binary_logloss: 0.107074\n",
      "[1950]\tvalid_0's binary_logloss: 0.107214\n",
      "[2000]\tvalid_0's binary_logloss: 0.107295\n",
      "[2050]\tvalid_0's binary_logloss: 0.107371\n",
      "[2100]\tvalid_0's binary_logloss: 0.107502\n",
      "[2150]\tvalid_0's binary_logloss: 0.107651\n",
      "[2200]\tvalid_0's binary_logloss: 0.107775\n",
      "[2250]\tvalid_0's binary_logloss: 0.107884\n",
      "0.977267754615\n",
      "('Fold ', 3)\n",
      "[50]\tvalid_0's binary_logloss: 0.0718547\n",
      "[100]\tvalid_0's binary_logloss: 0.0671254\n",
      "[150]\tvalid_0's binary_logloss: 0.083673\n",
      "[200]\tvalid_0's binary_logloss: 0.0852813\n",
      "[250]\tvalid_0's binary_logloss: 0.0868204\n",
      "[300]\tvalid_0's binary_logloss: 0.0873008\n",
      "[350]\tvalid_0's binary_logloss: 0.0882888\n",
      "[400]\tvalid_0's binary_logloss: 0.0879851\n",
      "[450]\tvalid_0's binary_logloss: 0.0880757\n",
      "[500]\tvalid_0's binary_logloss: 0.0882999\n",
      "[550]\tvalid_0's binary_logloss: 0.088184\n",
      "[600]\tvalid_0's binary_logloss: 0.088186\n",
      "[650]\tvalid_0's binary_logloss: 0.0881638\n",
      "[700]\tvalid_0's binary_logloss: 0.0881707\n",
      "[750]\tvalid_0's binary_logloss: 0.0881127\n",
      "[800]\tvalid_0's binary_logloss: 0.0880632\n",
      "[850]\tvalid_0's binary_logloss: 0.0880262\n",
      "[900]\tvalid_0's binary_logloss: 0.0880358\n",
      "[950]\tvalid_0's binary_logloss: 0.0880419\n",
      "[1000]\tvalid_0's binary_logloss: 0.0881034\n",
      "[1050]\tvalid_0's binary_logloss: 0.0880556\n",
      "[1100]\tvalid_0's binary_logloss: 0.0880257\n",
      "[1150]\tvalid_0's binary_logloss: 0.0880514\n",
      "[1200]\tvalid_0's binary_logloss: 0.0882184\n",
      "[1250]\tvalid_0's binary_logloss: 0.0882326\n",
      "[1300]\tvalid_0's binary_logloss: 0.0882506\n",
      "[1350]\tvalid_0's binary_logloss: 0.0883132\n",
      "[1400]\tvalid_0's binary_logloss: 0.0883203\n",
      "[1450]\tvalid_0's binary_logloss: 0.0884257\n",
      "[1500]\tvalid_0's binary_logloss: 0.0885433\n",
      "[1550]\tvalid_0's binary_logloss: 0.0885364\n",
      "[1600]\tvalid_0's binary_logloss: 0.0886023\n",
      "[1650]\tvalid_0's binary_logloss: 0.0886255\n",
      "[1700]\tvalid_0's binary_logloss: 0.0887679\n",
      "[1750]\tvalid_0's binary_logloss: 0.0888428\n",
      "[1800]\tvalid_0's binary_logloss: 0.0888893\n",
      "[1850]\tvalid_0's binary_logloss: 0.0889606\n",
      "[1900]\tvalid_0's binary_logloss: 0.088994\n",
      "[1950]\tvalid_0's binary_logloss: 0.0890515\n",
      "[2000]\tvalid_0's binary_logloss: 0.08914\n",
      "[2050]\tvalid_0's binary_logloss: 0.0891492\n",
      "[2100]\tvalid_0's binary_logloss: 0.0891724\n",
      "[2150]\tvalid_0's binary_logloss: 0.0892243\n",
      "[2200]\tvalid_0's binary_logloss: 0.0893039\n",
      "[2250]\tvalid_0's binary_logloss: 0.0893404\n",
      "0.97803679511\n",
      "('Fold ', 4)\n",
      "[50]\tvalid_0's binary_logloss: 0.0709879\n",
      "[100]\tvalid_0's binary_logloss: 0.0678523\n",
      "[150]\tvalid_0's binary_logloss: 0.10389\n",
      "[200]\tvalid_0's binary_logloss: 0.0923113\n",
      "[250]\tvalid_0's binary_logloss: 0.0971176\n",
      "[300]\tvalid_0's binary_logloss: 0.0985984\n",
      "[350]\tvalid_0's binary_logloss: 0.100634\n",
      "[400]\tvalid_0's binary_logloss: 0.103259\n",
      "[450]\tvalid_0's binary_logloss: 0.10307\n",
      "[500]\tvalid_0's binary_logloss: 0.105026\n",
      "[550]\tvalid_0's binary_logloss: 0.104924\n",
      "[600]\tvalid_0's binary_logloss: 0.104797\n",
      "[650]\tvalid_0's binary_logloss: 0.104802\n"
     ]
    },
    {
     "name": "stdout",
     "output_type": "stream",
     "text": [
      "[700]\tvalid_0's binary_logloss: 0.104868\n",
      "[750]\tvalid_0's binary_logloss: 0.104705\n",
      "[800]\tvalid_0's binary_logloss: 0.104742\n",
      "[850]\tvalid_0's binary_logloss: 0.104766\n",
      "[900]\tvalid_0's binary_logloss: 0.104876\n",
      "[950]\tvalid_0's binary_logloss: 0.104814\n",
      "[1000]\tvalid_0's binary_logloss: 0.104845\n",
      "[1050]\tvalid_0's binary_logloss: 0.104858\n",
      "[1100]\tvalid_0's binary_logloss: 0.104864\n",
      "[1150]\tvalid_0's binary_logloss: 0.104734\n",
      "[1200]\tvalid_0's binary_logloss: 0.10476\n",
      "[1250]\tvalid_0's binary_logloss: 0.104678\n",
      "[1300]\tvalid_0's binary_logloss: 0.104733\n",
      "[1350]\tvalid_0's binary_logloss: 0.104776\n",
      "[1400]\tvalid_0's binary_logloss: 0.104788\n",
      "[1450]\tvalid_0's binary_logloss: 0.104955\n",
      "[1500]\tvalid_0's binary_logloss: 0.104975\n",
      "[1550]\tvalid_0's binary_logloss: 0.104921\n",
      "[1600]\tvalid_0's binary_logloss: 0.10494\n",
      "[1650]\tvalid_0's binary_logloss: 0.10503\n",
      "[1700]\tvalid_0's binary_logloss: 0.105079\n",
      "[1750]\tvalid_0's binary_logloss: 0.105147\n",
      "[1800]\tvalid_0's binary_logloss: 0.10518\n",
      "[1850]\tvalid_0's binary_logloss: 0.105231\n",
      "[1900]\tvalid_0's binary_logloss: 0.105225\n",
      "[1950]\tvalid_0's binary_logloss: 0.105238\n",
      "[2000]\tvalid_0's binary_logloss: 0.105324\n",
      "[2050]\tvalid_0's binary_logloss: 0.105337\n",
      "[2100]\tvalid_0's binary_logloss: 0.105412\n",
      "[2150]\tvalid_0's binary_logloss: 0.105437\n",
      "[2200]\tvalid_0's binary_logloss: 0.105469\n",
      "[2250]\tvalid_0's binary_logloss: 0.1056\n",
      "0.977832770904\n",
      "Total score \n",
      "0.97759321432\n",
      "[0.97778341250960188, 0.97704533846107622, 0.97726775461548332, 0.97803679510996577, 0.97783277090363707]\n",
      "CPU times: user 18min 50s, sys: 1min 36s, total: 20min 27s\n",
      "Wall time: 9min 7s\n"
     ]
    }
   ],
   "source": [
    "%%time\n",
    "from sklearn.metrics import f1_score\n",
    "sumf1=0\n",
    "pred_test=0\n",
    "scores=[]\n",
    "for i, (idx_train, idx_val) in enumerate(cv.split(X)):\n",
    "    print(\"Fold \", i )\n",
    "    X_train = X[idx_train]\n",
    "    y_train = y[idx_train]\n",
    "    X_valid = X[idx_val]\n",
    "    y_valid = y[idx_val]\n",
    "    lgb_class.fit(X_train, y_train, verbose=50, eval_set=(X_valid, y_valid))\n",
    "    pred=lgb_class.predict_proba(X_valid)\n",
    "    pred = np.argmax(pred, axis=1)\n",
    "    pred_test_fold = lgb_class.predict_proba(X_test)\n",
    "    pred_test+=pred_test_fold\n",
    "    score=f1_score(pred,y_valid)\n",
    "    scores.append(score)\n",
    "    print(score)\n",
    "    sumf1 +=score\n",
    "sumf1 = sumf1/K\n",
    "print(\"Total score \")\n",
    "print(sumf1)\n",
    "print(scores)"
   ]
  },
  {
   "cell_type": "code",
   "execution_count": 44,
   "metadata": {
    "collapsed": true
   },
   "outputs": [],
   "source": [
    "pred_lgbm = pred_test/K\n",
    "pred_lgbm = np.argmax(pred_lgbm, axis=1)"
   ]
  },
  {
   "cell_type": "code",
   "execution_count": 45,
   "metadata": {
    "collapsed": true
   },
   "outputs": [],
   "source": [
    "sub['category'] = pred_lgbm"
   ]
  },
  {
   "cell_type": "code",
   "execution_count": 46,
   "metadata": {},
   "outputs": [
    {
     "data": {
      "text/html": [
       "<div>\n",
       "<style scoped>\n",
       "    .dataframe tbody tr th:only-of-type {\n",
       "        vertical-align: middle;\n",
       "    }\n",
       "\n",
       "    .dataframe tbody tr th {\n",
       "        vertical-align: top;\n",
       "    }\n",
       "\n",
       "    .dataframe thead th {\n",
       "        text-align: right;\n",
       "    }\n",
       "</style>\n",
       "<table border=\"1\" class=\"dataframe\">\n",
       "  <thead>\n",
       "    <tr style=\"text-align: right;\">\n",
       "      <th></th>\n",
       "      <th>id</th>\n",
       "      <th>category</th>\n",
       "    </tr>\n",
       "  </thead>\n",
       "  <tbody>\n",
       "    <tr>\n",
       "      <th>0</th>\n",
       "      <td>0</td>\n",
       "      <td>0</td>\n",
       "    </tr>\n",
       "    <tr>\n",
       "      <th>1</th>\n",
       "      <td>1</td>\n",
       "      <td>1</td>\n",
       "    </tr>\n",
       "    <tr>\n",
       "      <th>2</th>\n",
       "      <td>2</td>\n",
       "      <td>1</td>\n",
       "    </tr>\n",
       "    <tr>\n",
       "      <th>3</th>\n",
       "      <td>3</td>\n",
       "      <td>1</td>\n",
       "    </tr>\n",
       "    <tr>\n",
       "      <th>4</th>\n",
       "      <td>4</td>\n",
       "      <td>1</td>\n",
       "    </tr>\n",
       "    <tr>\n",
       "      <th>5</th>\n",
       "      <td>5</td>\n",
       "      <td>0</td>\n",
       "    </tr>\n",
       "    <tr>\n",
       "      <th>6</th>\n",
       "      <td>6</td>\n",
       "      <td>0</td>\n",
       "    </tr>\n",
       "    <tr>\n",
       "      <th>7</th>\n",
       "      <td>7</td>\n",
       "      <td>1</td>\n",
       "    </tr>\n",
       "    <tr>\n",
       "      <th>8</th>\n",
       "      <td>8</td>\n",
       "      <td>0</td>\n",
       "    </tr>\n",
       "    <tr>\n",
       "      <th>9</th>\n",
       "      <td>9</td>\n",
       "      <td>1</td>\n",
       "    </tr>\n",
       "  </tbody>\n",
       "</table>\n",
       "</div>"
      ],
      "text/plain": [
       "   id  category\n",
       "0   0         0\n",
       "1   1         1\n",
       "2   2         1\n",
       "3   3         1\n",
       "4   4         1\n",
       "5   5         0\n",
       "6   6         0\n",
       "7   7         1\n",
       "8   8         0\n",
       "9   9         1"
      ]
     },
     "execution_count": 46,
     "metadata": {},
     "output_type": "execute_result"
    }
   ],
   "source": [
    "sub.head(10)"
   ]
  },
  {
   "cell_type": "code",
   "execution_count": null,
   "metadata": {
    "collapsed": true
   },
   "outputs": [],
   "source": [
    "#sub.to_csv('sub/sub_LGBM.csv', index=False)"
   ]
  },
  {
   "cell_type": "markdown",
   "metadata": {},
   "source": [
    "<a id=\"2g\"></a>\n",
    "## G - Neural network"
   ]
  },
  {
   "cell_type": "code",
   "execution_count": 47,
   "metadata": {},
   "outputs": [
    {
     "name": "stderr",
     "output_type": "stream",
     "text": [
      "Using TensorFlow backend.\n"
     ]
    }
   ],
   "source": [
    "from keras.models import Sequential\n",
    "from keras.layers.core import Dense, Dropout, Activation\n",
    "from keras.optimizers import SGD, Adam, RMSprop\n",
    "from keras.utils import np_utils"
   ]
  },
  {
   "cell_type": "code",
   "execution_count": 66,
   "metadata": {
    "collapsed": true
   },
   "outputs": [],
   "source": [
    "from sklearn import cross_validation\n",
    "X_train, X_valid, y_train, y_valid = cross_validation.train_test_split(training_features,labels_array, \n",
    "                                                                     test_size=0.4, random_state=0)\n",
    "Y_train = np.array([y_train,(1-y_train)]).T\n",
    "Y_valid = np.array([y_valid,(1-y_valid)]).T"
   ]
  },
  {
   "cell_type": "code",
   "execution_count": 53,
   "metadata": {
    "collapsed": true
   },
   "outputs": [],
   "source": [
    "# neural network building...\n",
    "model = Sequential()\n",
    "model.add(Dense(16, input_shape=(21,)))\n",
    "model.add(Activation('relu'))\n",
    "model.add(Dropout(0.5))\n",
    "model.add(Dense(32))\n",
    "model.add(Activation('relu'))\n",
    "model.add(Dropout(0.5))\n",
    "model.add(Dense(64))\n",
    "model.add(Activation('relu'))\n",
    "model.add(Dropout(0.5))\n",
    "model.add(Dense(2))\n",
    "model.add(Activation('softmax'))"
   ]
  },
  {
   "cell_type": "code",
   "execution_count": 54,
   "metadata": {
    "collapsed": true
   },
   "outputs": [],
   "source": [
    "# choose a optimizer for our neural network\n",
    "rms = RMSprop()\n",
    "model.compile(loss='categorical_crossentropy', optimizer=rms)"
   ]
  },
  {
   "cell_type": "code",
   "execution_count": 55,
   "metadata": {
    "collapsed": true
   },
   "outputs": [],
   "source": [
    "from keras import callbacks\n",
    "early_stopping = callbacks.EarlyStopping(monitor='val_loss',\n",
    "                              patience=2,\n",
    "                              verbose=0, mode='auto')"
   ]
  },
  {
   "cell_type": "code",
   "execution_count": 56,
   "metadata": {},
   "outputs": [
    {
     "name": "stdout",
     "output_type": "stream",
     "text": [
      "Train on 369307 samples, validate on 246205 samples\n",
      "Epoch 1/70\n",
      " - 9s - loss: 0.2151 - val_loss: 0.1047\n",
      "Epoch 2/70\n",
      " - 13s - loss: 0.1259 - val_loss: 0.1004\n",
      "Epoch 3/70\n",
      " - 13s - loss: 0.1197 - val_loss: 0.0991\n",
      "Epoch 4/70\n",
      " - 13s - loss: 0.1186 - val_loss: 0.1031\n",
      "Epoch 5/70\n",
      " - 13s - loss: 0.1174 - val_loss: 0.0977\n",
      "Epoch 6/70\n",
      " - 13s - loss: 0.1176 - val_loss: 0.0973\n",
      "Epoch 7/70\n",
      " - 13s - loss: 0.1173 - val_loss: 0.1012\n",
      "Epoch 8/70\n",
      " - 13s - loss: 0.1171 - val_loss: 0.1000\n",
      "CPU times: user 2min 21s, sys: 45.7 s, total: 3min 7s\n",
      "Wall time: 1min 50s\n"
     ]
    }
   ],
   "source": [
    "%%time\n",
    "model.fit(X_train, Y_train,\n",
    "          batch_size=128, epochs=70, verbose=2,\n",
    "          validation_data=(X_valid, Y_valid), callbacks = [early_stopping])\n",
    "score = model.evaluate(X_valid, Y_valid, verbose=0)\n",
    "score"
   ]
  },
  {
   "cell_type": "code",
   "execution_count": 57,
   "metadata": {},
   "outputs": [
    {
     "name": "stdout",
     "output_type": "stream",
     "text": [
      "32648/32648 [==============================] - 0s 9us/step\n"
     ]
    },
    {
     "data": {
      "text/plain": [
       "array([[  7.17933178e-02,   9.28206623e-01],\n",
       "       [  1.00000000e+00,   4.67915567e-11],\n",
       "       [  1.00000000e+00,   8.42130448e-21],\n",
       "       ..., \n",
       "       [  3.71415354e-02,   9.62858498e-01],\n",
       "       [  1.69833448e-22,   1.00000000e+00],\n",
       "       [  6.92459941e-01,   3.07540089e-01]], dtype=float32)"
      ]
     },
     "execution_count": 57,
     "metadata": {},
     "output_type": "execute_result"
    }
   ],
   "source": [
    "prediction_NN = model.predict_proba(testing_features, batch_size=128, verbose=1)\n",
    "prediction_NN"
   ]
  },
  {
   "cell_type": "code",
   "execution_count": 58,
   "metadata": {
    "collapsed": true
   },
   "outputs": [],
   "source": [
    "prediction_NN = 1 - prediction_NN\n",
    "tmp = prediction_NN[:,1].round()\n",
    "preds = tmp.astype(int)"
   ]
  },
  {
   "cell_type": "code",
   "execution_count": 59,
   "metadata": {
    "collapsed": true
   },
   "outputs": [],
   "source": [
    "sub['category'] = preds"
   ]
  },
  {
   "cell_type": "code",
   "execution_count": 60,
   "metadata": {},
   "outputs": [
    {
     "data": {
      "text/html": [
       "<div>\n",
       "<style scoped>\n",
       "    .dataframe tbody tr th:only-of-type {\n",
       "        vertical-align: middle;\n",
       "    }\n",
       "\n",
       "    .dataframe tbody tr th {\n",
       "        vertical-align: top;\n",
       "    }\n",
       "\n",
       "    .dataframe thead th {\n",
       "        text-align: right;\n",
       "    }\n",
       "</style>\n",
       "<table border=\"1\" class=\"dataframe\">\n",
       "  <thead>\n",
       "    <tr style=\"text-align: right;\">\n",
       "      <th></th>\n",
       "      <th>id</th>\n",
       "      <th>category</th>\n",
       "    </tr>\n",
       "  </thead>\n",
       "  <tbody>\n",
       "    <tr>\n",
       "      <th>0</th>\n",
       "      <td>0</td>\n",
       "      <td>0</td>\n",
       "    </tr>\n",
       "    <tr>\n",
       "      <th>1</th>\n",
       "      <td>1</td>\n",
       "      <td>1</td>\n",
       "    </tr>\n",
       "    <tr>\n",
       "      <th>2</th>\n",
       "      <td>2</td>\n",
       "      <td>1</td>\n",
       "    </tr>\n",
       "    <tr>\n",
       "      <th>3</th>\n",
       "      <td>3</td>\n",
       "      <td>1</td>\n",
       "    </tr>\n",
       "    <tr>\n",
       "      <th>4</th>\n",
       "      <td>4</td>\n",
       "      <td>1</td>\n",
       "    </tr>\n",
       "    <tr>\n",
       "      <th>5</th>\n",
       "      <td>5</td>\n",
       "      <td>0</td>\n",
       "    </tr>\n",
       "    <tr>\n",
       "      <th>6</th>\n",
       "      <td>6</td>\n",
       "      <td>0</td>\n",
       "    </tr>\n",
       "    <tr>\n",
       "      <th>7</th>\n",
       "      <td>7</td>\n",
       "      <td>1</td>\n",
       "    </tr>\n",
       "    <tr>\n",
       "      <th>8</th>\n",
       "      <td>8</td>\n",
       "      <td>0</td>\n",
       "    </tr>\n",
       "    <tr>\n",
       "      <th>9</th>\n",
       "      <td>9</td>\n",
       "      <td>1</td>\n",
       "    </tr>\n",
       "  </tbody>\n",
       "</table>\n",
       "</div>"
      ],
      "text/plain": [
       "   id  category\n",
       "0   0         0\n",
       "1   1         1\n",
       "2   2         1\n",
       "3   3         1\n",
       "4   4         1\n",
       "5   5         0\n",
       "6   6         0\n",
       "7   7         1\n",
       "8   8         0\n",
       "9   9         1"
      ]
     },
     "execution_count": 60,
     "metadata": {},
     "output_type": "execute_result"
    }
   ],
   "source": [
    "sub.head(10)"
   ]
  },
  {
   "cell_type": "code",
   "execution_count": null,
   "metadata": {
    "collapsed": true
   },
   "outputs": [],
   "source": [
    "#sub.to_csv('sub/sub_NN.csv', index=False)"
   ]
  },
  {
   "cell_type": "markdown",
   "metadata": {},
   "source": [
    "<a id=\"2h\"></a>\n",
    "## H - Convolutional neural network"
   ]
  },
  {
   "cell_type": "code",
   "execution_count": 67,
   "metadata": {
    "collapsed": true
   },
   "outputs": [],
   "source": [
    "X_train = X_train.reshape(X_train.shape[0], X_train.shape[1], 1)\n",
    "X_valid = X_valid.reshape(X_valid.shape[0], X_valid.shape[1], 1)"
   ]
  },
  {
   "cell_type": "code",
   "execution_count": 68,
   "metadata": {
    "collapsed": true
   },
   "outputs": [],
   "source": [
    "from keras.layers import Convolution1D, GlobalMaxPooling1D, Flatten\n",
    "model = Sequential()\n",
    "model.add(Convolution1D(filters = 32,\n",
    "              kernel_size = 3,\n",
    "              input_shape = X_train.shape[1:3],\n",
    "                       activation = 'relu'))\n",
    "model.add(GlobalMaxPooling1D())\n",
    "#model.add(Convolution1D(filters = 64,\n",
    "#              kernel_size = 3,\n",
    "#              activation = 'relu'))\n",
    "#model.add(GlobalMaxPooling1D())\n",
    "#model.add(Flatten())\n",
    "model.add(Dropout(0.25))\n",
    "model.add(Dense(1024, input_shape = (21,)))\n",
    "model.add(Activation('relu'))\n",
    "model.add(Dropout(0.5))\n",
    "model.add(Dense(2))\n",
    "model.add(Activation('softmax'))"
   ]
  },
  {
   "cell_type": "code",
   "execution_count": 69,
   "metadata": {},
   "outputs": [
    {
     "name": "stdout",
     "output_type": "stream",
     "text": [
      "_________________________________________________________________\n",
      "Layer (type)                 Output Shape              Param #   \n",
      "=================================================================\n",
      "conv1d_2 (Conv1D)            (None, 19, 32)            128       \n",
      "_________________________________________________________________\n",
      "global_max_pooling1d_2 (Glob (None, 32)                0         \n",
      "_________________________________________________________________\n",
      "dropout_9 (Dropout)          (None, 32)                0         \n",
      "_________________________________________________________________\n",
      "dense_11 (Dense)             (None, 1024)              33792     \n",
      "_________________________________________________________________\n",
      "activation_11 (Activation)   (None, 1024)              0         \n",
      "_________________________________________________________________\n",
      "dropout_10 (Dropout)         (None, 1024)              0         \n",
      "_________________________________________________________________\n",
      "dense_12 (Dense)             (None, 2)                 2050      \n",
      "_________________________________________________________________\n",
      "activation_12 (Activation)   (None, 2)                 0         \n",
      "=================================================================\n",
      "Total params: 35,970\n",
      "Trainable params: 35,970\n",
      "Non-trainable params: 0\n",
      "_________________________________________________________________\n"
     ]
    }
   ],
   "source": [
    "rms = RMSprop()\n",
    "model.compile(loss='categorical_crossentropy', optimizer=rms, metrics = ['accuracy'])\n",
    "model.summary()"
   ]
  },
  {
   "cell_type": "code",
   "execution_count": 71,
   "metadata": {},
   "outputs": [
    {
     "name": "stdout",
     "output_type": "stream",
     "text": [
      "Train on 369307 samples, validate on 246205 samples\n",
      "Epoch 1/20\n",
      "369307/369307 [==============================] - 71s 193us/step - loss: 0.3740 - acc: 0.8354 - val_loss: 0.2863 - val_acc: 0.8814\n",
      "Epoch 2/20\n",
      "369307/369307 [==============================] - 76s 205us/step - loss: 0.3383 - acc: 0.8583 - val_loss: 0.2888 - val_acc: 0.8769\n",
      "Epoch 3/20\n",
      "369307/369307 [==============================] - 75s 204us/step - loss: 0.3336 - acc: 0.8617 - val_loss: 0.3013 - val_acc: 0.8795\n",
      "Epoch 4/20\n",
      "369307/369307 [==============================] - 81s 219us/step - loss: 0.3465 - acc: 0.8582 - val_loss: 0.3004 - val_acc: 0.8804\n",
      "Epoch 5/20\n",
      "369307/369307 [==============================] - 75s 203us/step - loss: 0.3602 - acc: 0.8534 - val_loss: 0.2965 - val_acc: 0.8863\n",
      "Epoch 6/20\n",
      "369307/369307 [==============================] - 76s 205us/step - loss: 0.3641 - acc: 0.8525 - val_loss: 0.3158 - val_acc: 0.8700\n",
      "Epoch 7/20\n",
      "369307/369307 [==============================] - 77s 208us/step - loss: 0.3695 - acc: 0.8499 - val_loss: 0.2997 - val_acc: 0.8847\n",
      "Epoch 8/20\n",
      "369307/369307 [==============================] - 76s 205us/step - loss: 0.3734 - acc: 0.8489 - val_loss: 0.3029 - val_acc: 0.8815\n",
      "Epoch 9/20\n",
      "369307/369307 [==============================] - 84s 226us/step - loss: 0.3752 - acc: 0.8475 - val_loss: 0.3035 - val_acc: 0.8830\n",
      "Epoch 10/20\n",
      "369307/369307 [==============================] - 77s 208us/step - loss: 0.3774 - acc: 0.8458 - val_loss: 0.3299 - val_acc: 0.8800\n",
      "Epoch 11/20\n",
      "369307/369307 [==============================] - 75s 204us/step - loss: 0.3818 - acc: 0.8440 - val_loss: 0.3309 - val_acc: 0.8764\n",
      "Epoch 12/20\n",
      "369307/369307 [==============================] - 81s 220us/step - loss: 0.3832 - acc: 0.8441 - val_loss: 0.3392 - val_acc: 0.8736\n",
      "Epoch 13/20\n",
      "369307/369307 [==============================] - 77s 208us/step - loss: 0.3861 - acc: 0.8432 - val_loss: 0.3401 - val_acc: 0.8799\n",
      "Epoch 14/20\n",
      "369307/369307 [==============================] - 75s 203us/step - loss: 0.3883 - acc: 0.8412 - val_loss: 0.3473 - val_acc: 0.8686\n",
      "Epoch 15/20\n",
      "369307/369307 [==============================] - 78s 211us/step - loss: 0.3914 - acc: 0.8397 - val_loss: 0.3564 - val_acc: 0.8618\n",
      "Epoch 16/20\n",
      "369307/369307 [==============================] - 78s 212us/step - loss: 0.3901 - acc: 0.8399 - val_loss: 0.3205 - val_acc: 0.8773\n",
      "Epoch 17/20\n",
      "369307/369307 [==============================] - 73s 198us/step - loss: 0.3907 - acc: 0.8403 - val_loss: 0.3261 - val_acc: 0.8765\n",
      "Epoch 18/20\n",
      "369307/369307 [==============================] - 79s 213us/step - loss: 0.3898 - acc: 0.8402 - val_loss: 0.3222 - val_acc: 0.8829\n",
      "Epoch 19/20\n",
      "369307/369307 [==============================] - 74s 201us/step - loss: 0.3939 - acc: 0.8375 - val_loss: 0.3391 - val_acc: 0.8674\n",
      "Epoch 20/20\n",
      "369307/369307 [==============================] - 74s 199us/step - loss: 0.3949 - acc: 0.8374 - val_loss: 0.3342 - val_acc: 0.8757\n",
      "('Test loss:', 0.33423814170807131)\n",
      "('Test accuracy:', 0.87572145163897919)\n",
      "CPU times: user 47min 4s, sys: 5min 52s, total: 52min 57s\n",
      "Wall time: 25min 39s\n"
     ]
    }
   ],
   "source": [
    "%%time\n",
    "batch_size = 32\n",
    "epochs = 20\n",
    "\n",
    "# Run the train\n",
    "history = model.fit(X_train, Y_train,\n",
    "                        batch_size=batch_size,\n",
    "                        epochs=epochs,\n",
    "                        verbose=1,\n",
    "                        validation_data=(X_valid, Y_valid))\n",
    "score = model.evaluate(X_valid, Y_valid, verbose=0)\n",
    "print('Test loss:', score[0])\n",
    "print('Test accuracy:', score[1])"
   ]
  },
  {
   "cell_type": "code",
   "execution_count": 72,
   "metadata": {},
   "outputs": [
    {
     "name": "stdout",
     "output_type": "stream",
     "text": [
      "32648/32648 [==============================] - 1s 31us/step\n"
     ]
    }
   ],
   "source": [
    "X_test = testing_features.reshape(testing_features.shape[0], testing_features.shape[1], 1)\n",
    "prediction_CNN = model.predict_classes(X_test, batch_size=32, verbose=1)"
   ]
  },
  {
   "cell_type": "code",
   "execution_count": 73,
   "metadata": {
    "collapsed": true
   },
   "outputs": [],
   "source": [
    "sub['category'] = 1 - prediction_CNN"
   ]
  },
  {
   "cell_type": "code",
   "execution_count": 74,
   "metadata": {},
   "outputs": [
    {
     "data": {
      "text/html": [
       "<div>\n",
       "<style scoped>\n",
       "    .dataframe tbody tr th:only-of-type {\n",
       "        vertical-align: middle;\n",
       "    }\n",
       "\n",
       "    .dataframe tbody tr th {\n",
       "        vertical-align: top;\n",
       "    }\n",
       "\n",
       "    .dataframe thead th {\n",
       "        text-align: right;\n",
       "    }\n",
       "</style>\n",
       "<table border=\"1\" class=\"dataframe\">\n",
       "  <thead>\n",
       "    <tr style=\"text-align: right;\">\n",
       "      <th></th>\n",
       "      <th>id</th>\n",
       "      <th>category</th>\n",
       "    </tr>\n",
       "  </thead>\n",
       "  <tbody>\n",
       "    <tr>\n",
       "      <th>0</th>\n",
       "      <td>0</td>\n",
       "      <td>1</td>\n",
       "    </tr>\n",
       "    <tr>\n",
       "      <th>1</th>\n",
       "      <td>1</td>\n",
       "      <td>1</td>\n",
       "    </tr>\n",
       "    <tr>\n",
       "      <th>2</th>\n",
       "      <td>2</td>\n",
       "      <td>1</td>\n",
       "    </tr>\n",
       "    <tr>\n",
       "      <th>3</th>\n",
       "      <td>3</td>\n",
       "      <td>1</td>\n",
       "    </tr>\n",
       "    <tr>\n",
       "      <th>4</th>\n",
       "      <td>4</td>\n",
       "      <td>1</td>\n",
       "    </tr>\n",
       "    <tr>\n",
       "      <th>5</th>\n",
       "      <td>5</td>\n",
       "      <td>0</td>\n",
       "    </tr>\n",
       "    <tr>\n",
       "      <th>6</th>\n",
       "      <td>6</td>\n",
       "      <td>0</td>\n",
       "    </tr>\n",
       "    <tr>\n",
       "      <th>7</th>\n",
       "      <td>7</td>\n",
       "      <td>1</td>\n",
       "    </tr>\n",
       "    <tr>\n",
       "      <th>8</th>\n",
       "      <td>8</td>\n",
       "      <td>0</td>\n",
       "    </tr>\n",
       "    <tr>\n",
       "      <th>9</th>\n",
       "      <td>9</td>\n",
       "      <td>1</td>\n",
       "    </tr>\n",
       "  </tbody>\n",
       "</table>\n",
       "</div>"
      ],
      "text/plain": [
       "   id  category\n",
       "0   0         1\n",
       "1   1         1\n",
       "2   2         1\n",
       "3   3         1\n",
       "4   4         1\n",
       "5   5         0\n",
       "6   6         0\n",
       "7   7         1\n",
       "8   8         0\n",
       "9   9         1"
      ]
     },
     "execution_count": 74,
     "metadata": {},
     "output_type": "execute_result"
    }
   ],
   "source": [
    "sub.head(10)"
   ]
  },
  {
   "cell_type": "code",
   "execution_count": null,
   "metadata": {
    "collapsed": true
   },
   "outputs": [],
   "source": [
    "#sub.to_csv('sub/sub_CNN.csv', index=False)"
   ]
  }
 ],
 "metadata": {
  "kernelspec": {
   "display_name": "Python 3",
   "language": "python",
   "name": "python3"
  },
  "language_info": {
   "codemirror_mode": {
    "name": "ipython",
    "version": 3
   },
   "file_extension": ".py",
   "mimetype": "text/x-python",
   "name": "python",
   "nbconvert_exporter": "python",
   "pygments_lexer": "ipython3",
   "version": "3.6.3"
  }
 },
 "nbformat": 4,
 "nbformat_minor": 2
}
